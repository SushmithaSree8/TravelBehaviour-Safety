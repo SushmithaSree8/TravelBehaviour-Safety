{
 "cells": [
  {
   "cell_type": "code",
   "execution_count": 1,
   "metadata": {},
   "outputs": [],
   "source": [
    "#import statement\n",
    "import pandas as pd\n",
    "import numpy as np\n",
    "import seaborn as sns\n",
    "import matplotlib.pyplot as plt"
   ]
  },
  {
   "cell_type": "markdown",
   "metadata": {},
   "source": [
    "### Identification of Sample Households"
   ]
  },
  {
   "cell_type": "code",
   "execution_count": 2,
   "metadata": {},
   "outputs": [
    {
     "data": {
      "text/html": [
       "<div>\n",
       "<style scoped>\n",
       "    .dataframe tbody tr th:only-of-type {\n",
       "        vertical-align: middle;\n",
       "    }\n",
       "\n",
       "    .dataframe tbody tr th {\n",
       "        vertical-align: top;\n",
       "    }\n",
       "\n",
       "    .dataframe thead th {\n",
       "        text-align: right;\n",
       "    }\n",
       "</style>\n",
       "<table border=\"1\" class=\"dataframe\">\n",
       "  <thead>\n",
       "    <tr style=\"text-align: right;\">\n",
       "      <th></th>\n",
       "      <th>hh_id</th>\n",
       "      <th>state</th>\n",
       "      <th>region</th>\n",
       "      <th>district</th>\n",
       "      <th>response_code</th>\n",
       "      <th>multiplier</th>\n",
       "    </tr>\n",
       "  </thead>\n",
       "  <tbody>\n",
       "    <tr>\n",
       "      <th>0</th>\n",
       "      <td>1101</td>\n",
       "      <td>14</td>\n",
       "      <td>141</td>\n",
       "      <td>1406</td>\n",
       "      <td>1</td>\n",
       "      <td>186.375</td>\n",
       "    </tr>\n",
       "    <tr>\n",
       "      <th>1</th>\n",
       "      <td>1102</td>\n",
       "      <td>14</td>\n",
       "      <td>141</td>\n",
       "      <td>1406</td>\n",
       "      <td>1</td>\n",
       "      <td>186.375</td>\n",
       "    </tr>\n",
       "    <tr>\n",
       "      <th>2</th>\n",
       "      <td>1103</td>\n",
       "      <td>14</td>\n",
       "      <td>141</td>\n",
       "      <td>1406</td>\n",
       "      <td>1</td>\n",
       "      <td>186.375</td>\n",
       "    </tr>\n",
       "    <tr>\n",
       "      <th>3</th>\n",
       "      <td>1104</td>\n",
       "      <td>14</td>\n",
       "      <td>141</td>\n",
       "      <td>1406</td>\n",
       "      <td>1</td>\n",
       "      <td>186.375</td>\n",
       "    </tr>\n",
       "    <tr>\n",
       "      <th>4</th>\n",
       "      <td>1201</td>\n",
       "      <td>14</td>\n",
       "      <td>141</td>\n",
       "      <td>1406</td>\n",
       "      <td>1</td>\n",
       "      <td>53.250</td>\n",
       "    </tr>\n",
       "  </tbody>\n",
       "</table>\n",
       "</div>"
      ],
      "text/plain": [
       "   hh_id  state  region  district  response_code  multiplier\n",
       "0   1101     14     141      1406              1     186.375\n",
       "1   1102     14     141      1406              1     186.375\n",
       "2   1103     14     141      1406              1     186.375\n",
       "3   1104     14     141      1406              1     186.375\n",
       "4   1201     14     141      1406              1      53.250"
      ]
     },
     "execution_count": 2,
     "metadata": {},
     "output_type": "execute_result"
    }
   ],
   "source": [
    "# reading file\n",
    "df_1=pd.read_csv('IdentificationOfSampleHousehold.csv')\n",
    "df_1.head()"
   ]
  },
  {
   "cell_type": "code",
   "execution_count": 3,
   "metadata": {},
   "outputs": [
    {
     "name": "stdout",
     "output_type": "stream",
     "text": [
      "<class 'pandas.core.frame.DataFrame'>\n",
      "RangeIndex: 100855 entries, 0 to 100854\n",
      "Data columns (total 6 columns):\n",
      " #   Column         Non-Null Count   Dtype  \n",
      "---  ------         --------------   -----  \n",
      " 0   hh_id          100855 non-null  int64  \n",
      " 1   state          100855 non-null  int64  \n",
      " 2   region         100855 non-null  int64  \n",
      " 3   district       100855 non-null  int64  \n",
      " 4   response_code  100855 non-null  int64  \n",
      " 5   multiplier     100855 non-null  float64\n",
      "dtypes: float64(1), int64(5)\n",
      "memory usage: 4.6 MB\n"
     ]
    }
   ],
   "source": [
    "# info\n",
    "df_1.info()"
   ]
  },
  {
   "cell_type": "code",
   "execution_count": 4,
   "metadata": {},
   "outputs": [
    {
     "data": {
      "text/plain": [
       "hh_id            100855\n",
       "state                35\n",
       "region               87\n",
       "district            612\n",
       "response_code         5\n",
       "multiplier        44696\n",
       "dtype: int64"
      ]
     },
     "execution_count": 4,
     "metadata": {},
     "output_type": "execute_result"
    }
   ],
   "source": [
    "# number of unique variables\n",
    "df_1.nunique()"
   ]
  },
  {
   "cell_type": "code",
   "execution_count": 5,
   "metadata": {},
   "outputs": [
    {
     "data": {
      "text/plain": [
       "array([14, 15, 17, 18, 13, 19, 16, 29, 32, 30, 28, 33, 31, 21, 20, 23, 24,\n",
       "       22, 34, 35,  2,  3,  4,  5,  6,  1,  7, 27, 25, 26,  9,  8, 10, 11,\n",
       "       12], dtype=int64)"
      ]
     },
     "execution_count": 5,
     "metadata": {},
     "output_type": "execute_result"
    }
   ],
   "source": [
    "# unique values for state\n",
    "df_1.state.unique()"
   ]
  },
  {
   "cell_type": "code",
   "execution_count": 6,
   "metadata": {},
   "outputs": [
    {
     "data": {
      "text/plain": [
       "array([1, 2, 9, 3, 4], dtype=int64)"
      ]
     },
     "execution_count": 6,
     "metadata": {},
     "output_type": "execute_result"
    }
   ],
   "source": [
    "# unique values for response code\n",
    "df_1.response_code.unique()"
   ]
  },
  {
   "cell_type": "code",
   "execution_count": 7,
   "metadata": {},
   "outputs": [
    {
     "data": {
      "text/plain": [
       "response_code\n",
       "1    78.967825\n",
       "2    18.261861\n",
       "3     1.832334\n",
       "4     0.784294\n",
       "9     0.153686\n",
       "Name: hh_id, dtype: float64"
      ]
     },
     "execution_count": 7,
     "metadata": {},
     "output_type": "execute_result"
    }
   ],
   "source": [
    "# percentage of the types of response\n",
    "df_1.groupby('response_code')['hh_id'].count()*100/df_1.shape[0]"
   ]
  },
  {
   "cell_type": "code",
   "execution_count": 8,
   "metadata": {},
   "outputs": [
    {
     "data": {
      "text/plain": [
       "count    100855.000000\n",
       "mean       2286.839300\n",
       "std        3958.828359\n",
       "min           0.695000\n",
       "25%         308.230000\n",
       "50%         928.445000\n",
       "75%        2456.452500\n",
       "max       99134.000000\n",
       "Name: multiplier, dtype: float64"
      ]
     },
     "execution_count": 8,
     "metadata": {},
     "output_type": "execute_result"
    }
   ],
   "source": [
    "df_1.multiplier.describe()"
   ]
  },
  {
   "cell_type": "code",
   "execution_count": 9,
   "metadata": {},
   "outputs": [
    {
     "data": {
      "image/png": "[encoded data removed]",
      "text/plain": [
       "<Figure size 432x288 with 1 Axes>"
      ]
     },
     "metadata": {
      "needs_background": "light"
     },
     "output_type": "display_data"
    }
   ],
   "source": [
    "# number of households by state\n",
    "sns.countplot(x=\"state\", data=df_1)\n",
    "plt.xticks(rotation=90);"
   ]
  },
  {
   "cell_type": "markdown",
   "metadata": {},
   "source": [
    "#### Data understanding\n",
    "\n",
    "- There are 100855 unique households that were surveyed\n",
    "- 35 states, 87 regions and 612 districts were covered\n",
    "- Response code indicates the cooperation of the informant.\n",
    "        co-operative and capable -1, \n",
    "        co-operative but not capable -2,\n",
    "        busy -3, \n",
    "        reluctant - 4, \n",
    "        others - 9\n",
    "- Around 3% of the informats were busy, reluctant or others, ~18% responses were cooperative but not capable\n",
    "- Multiplier indicates the weights to be used for each household when aggregating the results"
   ]
  },
  {
   "cell_type": "markdown",
   "metadata": {},
   "source": [
    "#### Data Queries\n",
    "\n",
    "- Do we map states and union territories here?\n",
    "- Shall we keep only the responses with informant cooperative and capable for analysis?\n",
    "- Use of multiplier depends on nss and nsc. What are they? Should these two columns be included too?"
   ]
  },
  {
   "cell_type": "markdown",
   "metadata": {},
   "source": [
    "#### Data Cleaning\n",
    "\n",
    "- Change the datatypes of hh_id, state, district and region to strings\n",
    "- all hh_id should have 9 characters"
   ]
  },
  {
   "cell_type": "markdown",
   "metadata": {},
   "source": [
    "### Household Characteristics"
   ]
  },
  {
   "cell_type": "code",
   "execution_count": 10,
   "metadata": {},
   "outputs": [
    {
     "name": "stderr",
     "output_type": "stream",
     "text": [
      "C:\\Users\\Sushmitha\\anaconda3\\lib\\site-packages\\IPython\\core\\interactiveshell.py:3146: DtypeWarning: Columns (5) have mixed types.Specify dtype option on import or set low_memory=False.\n",
      "  has_raised = await self.run_ast_nodes(code_ast.body, cell_name,\n"
     ]
    },
    {
     "data": {
      "text/html": [
       "<div>\n",
       "<style scoped>\n",
       "    .dataframe tbody tr th:only-of-type {\n",
       "        vertical-align: middle;\n",
       "    }\n",
       "\n",
       "    .dataframe tbody tr th {\n",
       "        vertical-align: top;\n",
       "    }\n",
       "\n",
       "    .dataframe thead th {\n",
       "        text-align: right;\n",
       "    }\n",
       "</style>\n",
       "<table border=\"1\" class=\"dataframe\">\n",
       "  <thead>\n",
       "    <tr style=\"text-align: right;\">\n",
       "      <th></th>\n",
       "      <th>hh_id</th>\n",
       "      <th>hh_size</th>\n",
       "      <th>nic_2004</th>\n",
       "      <th>nco_2004</th>\n",
       "      <th>hh_type</th>\n",
       "      <th>religion</th>\n",
       "      <th>social_group</th>\n",
       "      <th>cooking_code</th>\n",
       "      <th>lighting_code</th>\n",
       "      <th>dwelling_unit</th>\n",
       "      <th>salary_income</th>\n",
       "      <th>internet_access</th>\n",
       "      <th>mpce_urp</th>\n",
       "      <th>mpce_mrp</th>\n",
       "    </tr>\n",
       "  </thead>\n",
       "  <tbody>\n",
       "    <tr>\n",
       "      <th>0</th>\n",
       "      <td>1101</td>\n",
       "      <td>3</td>\n",
       "      <td>50300</td>\n",
       "      <td>522</td>\n",
       "      <td>22</td>\n",
       "      <td>1</td>\n",
       "      <td>3</td>\n",
       "      <td>03</td>\n",
       "      <td>5</td>\n",
       "      <td>1</td>\n",
       "      <td>1.0</td>\n",
       "      <td>2.0</td>\n",
       "      <td>1535.67</td>\n",
       "      <td>1688.18</td>\n",
       "    </tr>\n",
       "    <tr>\n",
       "      <th>1</th>\n",
       "      <td>1102</td>\n",
       "      <td>1</td>\n",
       "      <td>NaN</td>\n",
       "      <td>NaN</td>\n",
       "      <td>29</td>\n",
       "      <td>1</td>\n",
       "      <td>3</td>\n",
       "      <td>03</td>\n",
       "      <td>5</td>\n",
       "      <td>1</td>\n",
       "      <td>2.0</td>\n",
       "      <td>2.0</td>\n",
       "      <td>2500.00</td>\n",
       "      <td>2599.47</td>\n",
       "    </tr>\n",
       "    <tr>\n",
       "      <th>2</th>\n",
       "      <td>1103</td>\n",
       "      <td>1</td>\n",
       "      <td>NaN</td>\n",
       "      <td>NaN</td>\n",
       "      <td>29</td>\n",
       "      <td>1</td>\n",
       "      <td>3</td>\n",
       "      <td>03</td>\n",
       "      <td>5</td>\n",
       "      <td>1</td>\n",
       "      <td>2.0</td>\n",
       "      <td>2.0</td>\n",
       "      <td>2655.00</td>\n",
       "      <td>2893.64</td>\n",
       "    </tr>\n",
       "    <tr>\n",
       "      <th>3</th>\n",
       "      <td>1104</td>\n",
       "      <td>4</td>\n",
       "      <td>75112</td>\n",
       "      <td>419</td>\n",
       "      <td>22</td>\n",
       "      <td>1</td>\n",
       "      <td>3</td>\n",
       "      <td>03</td>\n",
       "      <td>5</td>\n",
       "      <td>1</td>\n",
       "      <td>1.0</td>\n",
       "      <td>2.0</td>\n",
       "      <td>2109.00</td>\n",
       "      <td>2166.91</td>\n",
       "    </tr>\n",
       "    <tr>\n",
       "      <th>4</th>\n",
       "      <td>1201</td>\n",
       "      <td>6</td>\n",
       "      <td>75112</td>\n",
       "      <td>419</td>\n",
       "      <td>22</td>\n",
       "      <td>1</td>\n",
       "      <td>3</td>\n",
       "      <td>03</td>\n",
       "      <td>5</td>\n",
       "      <td>1</td>\n",
       "      <td>1.0</td>\n",
       "      <td>2.0</td>\n",
       "      <td>1007.83</td>\n",
       "      <td>1084.67</td>\n",
       "    </tr>\n",
       "  </tbody>\n",
       "</table>\n",
       "</div>"
      ],
      "text/plain": [
       "   hh_id  hh_size nic_2004 nco_2004 hh_type religion social_group  \\\n",
       "0   1101        3    50300      522      22        1            3   \n",
       "1   1102        1      NaN      NaN      29        1            3   \n",
       "2   1103        1      NaN      NaN      29        1            3   \n",
       "3   1104        4    75112      419      22        1            3   \n",
       "4   1201        6    75112      419      22        1            3   \n",
       "\n",
       "  cooking_code lighting_code dwelling_unit  salary_income  internet_access  \\\n",
       "0           03             5             1            1.0              2.0   \n",
       "1           03             5             1            2.0              2.0   \n",
       "2           03             5             1            2.0              2.0   \n",
       "3           03             5             1            1.0              2.0   \n",
       "4           03             5             1            1.0              2.0   \n",
       "\n",
       "   mpce_urp  mpce_mrp  \n",
       "0   1535.67   1688.18  \n",
       "1   2500.00   2599.47  \n",
       "2   2655.00   2893.64  \n",
       "3   2109.00   2166.91  \n",
       "4   1007.83   1084.67  "
      ]
     },
     "execution_count": 10,
     "metadata": {},
     "output_type": "execute_result"
    }
   ],
   "source": [
    "# read data\n",
    "df_2=pd.read_csv('HouseholdCharacteristics.csv')\n",
    "df_2.head()"
   ]
  },
  {
   "cell_type": "code",
   "execution_count": 11,
   "metadata": {},
   "outputs": [
    {
     "name": "stdout",
     "output_type": "stream",
     "text": [
      "<class 'pandas.core.frame.DataFrame'>\n",
      "RangeIndex: 100855 entries, 0 to 100854\n",
      "Data columns (total 14 columns):\n",
      " #   Column           Non-Null Count   Dtype  \n",
      "---  ------           --------------   -----  \n",
      " 0   hh_id            100855 non-null  int64  \n",
      " 1   hh_size          100855 non-null  int64  \n",
      " 2   nic_2004         93775 non-null   object \n",
      " 3   nco_2004         93759 non-null   object \n",
      " 4   hh_type          100855 non-null  object \n",
      " 5   religion         100855 non-null  object \n",
      " 6   social_group     100855 non-null  object \n",
      " 7   cooking_code     100855 non-null  object \n",
      " 8   lighting_code    100855 non-null  object \n",
      " 9   dwelling_unit    100855 non-null  object \n",
      " 10  salary_income    100844 non-null  float64\n",
      " 11  internet_access  100829 non-null  float64\n",
      " 12  mpce_urp         100855 non-null  float64\n",
      " 13  mpce_mrp         100855 non-null  float64\n",
      "dtypes: float64(4), int64(2), object(8)\n",
      "memory usage: 10.8+ MB\n"
     ]
    }
   ],
   "source": [
    "#info\n",
    "df_2.info()"
   ]
  },
  {
   "cell_type": "code",
   "execution_count": 12,
   "metadata": {},
   "outputs": [
    {
     "data": {
      "text/html": [
       "<div>\n",
       "<style scoped>\n",
       "    .dataframe tbody tr th:only-of-type {\n",
       "        vertical-align: middle;\n",
       "    }\n",
       "\n",
       "    .dataframe tbody tr th {\n",
       "        vertical-align: top;\n",
       "    }\n",
       "\n",
       "    .dataframe thead th {\n",
       "        text-align: right;\n",
       "    }\n",
       "</style>\n",
       "<table border=\"1\" class=\"dataframe\">\n",
       "  <thead>\n",
       "    <tr style=\"text-align: right;\">\n",
       "      <th></th>\n",
       "      <th>hh_id</th>\n",
       "      <th>hh_size</th>\n",
       "      <th>salary_income</th>\n",
       "      <th>internet_access</th>\n",
       "      <th>mpce_urp</th>\n",
       "      <th>mpce_mrp</th>\n",
       "    </tr>\n",
       "  </thead>\n",
       "  <tbody>\n",
       "    <tr>\n",
       "      <th>count</th>\n",
       "      <td>1.008550e+05</td>\n",
       "      <td>100855.000000</td>\n",
       "      <td>100844.000000</td>\n",
       "      <td>100829.000000</td>\n",
       "      <td>100855.000000</td>\n",
       "      <td>100855.000000</td>\n",
       "    </tr>\n",
       "    <tr>\n",
       "      <th>mean</th>\n",
       "      <td>5.142972e+08</td>\n",
       "      <td>4.645789</td>\n",
       "      <td>1.723851</td>\n",
       "      <td>1.974353</td>\n",
       "      <td>1493.742007</td>\n",
       "      <td>1527.928448</td>\n",
       "    </tr>\n",
       "    <tr>\n",
       "      <th>std</th>\n",
       "      <td>3.982157e+08</td>\n",
       "      <td>2.338262</td>\n",
       "      <td>0.447094</td>\n",
       "      <td>0.158082</td>\n",
       "      <td>2711.417806</td>\n",
       "      <td>1525.071091</td>\n",
       "    </tr>\n",
       "    <tr>\n",
       "      <th>min</th>\n",
       "      <td>1.101000e+03</td>\n",
       "      <td>1.000000</td>\n",
       "      <td>1.000000</td>\n",
       "      <td>1.000000</td>\n",
       "      <td>2.500000</td>\n",
       "      <td>12.770000</td>\n",
       "    </tr>\n",
       "    <tr>\n",
       "      <th>25%</th>\n",
       "      <td>4.553125e+07</td>\n",
       "      <td>3.000000</td>\n",
       "      <td>1.000000</td>\n",
       "      <td>2.000000</td>\n",
       "      <td>741.500000</td>\n",
       "      <td>783.840000</td>\n",
       "    </tr>\n",
       "    <tr>\n",
       "      <th>50%</th>\n",
       "      <td>8.123311e+08</td>\n",
       "      <td>4.000000</td>\n",
       "      <td>2.000000</td>\n",
       "      <td>2.000000</td>\n",
       "      <td>1078.000000</td>\n",
       "      <td>1132.080000</td>\n",
       "    </tr>\n",
       "    <tr>\n",
       "      <th>75%</th>\n",
       "      <td>8.494417e+08</td>\n",
       "      <td>6.000000</td>\n",
       "      <td>2.000000</td>\n",
       "      <td>2.000000</td>\n",
       "      <td>1703.750000</td>\n",
       "      <td>1779.715000</td>\n",
       "    </tr>\n",
       "    <tr>\n",
       "      <th>max</th>\n",
       "      <td>8.999923e+08</td>\n",
       "      <td>35.000000</td>\n",
       "      <td>2.000000</td>\n",
       "      <td>2.000000</td>\n",
       "      <td>405618.500000</td>\n",
       "      <td>108545.480000</td>\n",
       "    </tr>\n",
       "  </tbody>\n",
       "</table>\n",
       "</div>"
      ],
      "text/plain": [
       "              hh_id        hh_size  salary_income  internet_access  \\\n",
       "count  1.008550e+05  100855.000000  100844.000000    100829.000000   \n",
       "mean   5.142972e+08       4.645789       1.723851         1.974353   \n",
       "std    3.982157e+08       2.338262       0.447094         0.158082   \n",
       "min    1.101000e+03       1.000000       1.000000         1.000000   \n",
       "25%    4.553125e+07       3.000000       1.000000         2.000000   \n",
       "50%    8.123311e+08       4.000000       2.000000         2.000000   \n",
       "75%    8.494417e+08       6.000000       2.000000         2.000000   \n",
       "max    8.999923e+08      35.000000       2.000000         2.000000   \n",
       "\n",
       "            mpce_urp       mpce_mrp  \n",
       "count  100855.000000  100855.000000  \n",
       "mean     1493.742007    1527.928448  \n",
       "std      2711.417806    1525.071091  \n",
       "min         2.500000      12.770000  \n",
       "25%       741.500000     783.840000  \n",
       "50%      1078.000000    1132.080000  \n",
       "75%      1703.750000    1779.715000  \n",
       "max    405618.500000  108545.480000  "
      ]
     },
     "execution_count": 12,
     "metadata": {},
     "output_type": "execute_result"
    }
   ],
   "source": [
    "df_2.describe()"
   ]
  },
  {
   "cell_type": "code",
   "execution_count": 13,
   "metadata": {},
   "outputs": [
    {
     "data": {
      "text/plain": [
       "1047"
      ]
     },
     "execution_count": 13,
     "metadata": {},
     "output_type": "execute_result"
    }
   ],
   "source": [
    "df_2.nic_2004.nunique()"
   ]
  },
  {
   "cell_type": "code",
   "execution_count": 14,
   "metadata": {},
   "outputs": [
    {
     "data": {
      "text/plain": [
       "147"
      ]
     },
     "execution_count": 14,
     "metadata": {},
     "output_type": "execute_result"
    }
   ],
   "source": [
    "df_2.nco_2004.nunique()"
   ]
  },
  {
   "cell_type": "code",
   "execution_count": 15,
   "metadata": {},
   "outputs": [
    {
     "data": {
      "text/plain": [
       "array(['50300', nan, '75112', ..., '17212', '15132', '17243'],\n",
       "      dtype=object)"
      ]
     },
     "execution_count": 15,
     "metadata": {},
     "output_type": "execute_result"
    }
   ],
   "source": [
    "df_2.nic_2004.unique()"
   ]
  },
  {
   "cell_type": "code",
   "execution_count": 16,
   "metadata": {},
   "outputs": [
    {
     "data": {
      "text/plain": [
       "array(['522', nan, '419', '523', '412', '733', '343', '832', '724', '916',\n",
       "       'X99', '516', '913', '620', '342', '214', '723', '931', '932',\n",
       "       '713', '612', '611', '743', '232', '231', '331', '826', '741',\n",
       "       '241', '833', '513', '915', '223', '933', '512', '911', '245',\n",
       "       '345', '112', '121', '321', '13x', '122', '514', '311', '614',\n",
       "       '344', '714', '823', '334', '221', '615', '822', '920', '912',\n",
       "       '323', '322', '411', '313', '742', '242', '829', '341', '233',\n",
       "       '712', '744', '421', '111', '222', '711', '914', '246', '332',\n",
       "       '347', '243', '721', '213', '414', '312', 'X10', '01x', '731',\n",
       "       '722', '211', '413', '511', '37x', '515', '422', '814', '827',\n",
       "       '815', '114', '212', '831', '824', '333', '825', '130', '21x',\n",
       "       '834', '123', '821', '812', '813', '244', '732', '734', '314',\n",
       "       '828', '816', '51x', '93x', '315', '19x', '346', '348', '613',\n",
       "       '811', '324', '41x', '817', '92x', '63x', '95x', '113', '61x',\n",
       "       '15x', '40x', '02x', '55x', '521', '36x', '32x', 'X00', '05x',\n",
       "       '91x', '52x', '35x', '62x', '72x', '25x', '71x', '11x', '33x',\n",
       "       '16x', '29x', '64x'], dtype=object)"
      ]
     },
     "execution_count": 16,
     "metadata": {},
     "output_type": "execute_result"
    }
   ],
   "source": [
    "df_2.nco_2004.unique()"
   ]
  },
  {
   "cell_type": "code",
   "execution_count": 17,
   "metadata": {},
   "outputs": [
    {
     "data": {
      "text/plain": [
       "array(['22', '29', '21', '23', '2N', '19', '13', '11', '14', '12', '1N'],\n",
       "      dtype=object)"
      ]
     },
     "execution_count": 17,
     "metadata": {},
     "output_type": "execute_result"
    }
   ],
   "source": [
    "df_2.hh_type.unique()"
   ]
  },
  {
   "cell_type": "code",
   "execution_count": 18,
   "metadata": {},
   "outputs": [
    {
     "data": {
      "image/png": "[encoded data removed]",
      "text/plain": [
       "<Figure size 432x288 with 1 Axes>"
      ]
     },
     "metadata": {
      "needs_background": "light"
     },
     "output_type": "display_data"
    }
   ],
   "source": [
    "# number of households by hh_type\n",
    "sns.countplot(x=\"hh_type\", data=df_2)\n",
    "plt.xticks(rotation=90);"
   ]
  },
  {
   "cell_type": "code",
   "execution_count": 19,
   "metadata": {},
   "outputs": [
    {
     "data": {
      "text/plain": [
       "array(['1', '9', '3', '2', '6', '4', 'N', '5', '7', 1, 2, 5, 9, 3, 6, 4],\n",
       "      dtype=object)"
      ]
     },
     "execution_count": 19,
     "metadata": {},
     "output_type": "execute_result"
    }
   ],
   "source": [
    "df_2.religion.unique()"
   ]
  },
  {
   "cell_type": "code",
   "execution_count": 20,
   "metadata": {},
   "outputs": [
    {
     "data": {
      "text/plain": [
       "array(['3', '1', '9', '2', 'N'], dtype=object)"
      ]
     },
     "execution_count": 20,
     "metadata": {},
     "output_type": "execute_result"
    }
   ],
   "source": [
    "df_2.social_group.unique()"
   ]
  },
  {
   "cell_type": "code",
   "execution_count": 21,
   "metadata": {},
   "outputs": [
    {
     "data": {
      "image/png": "[encoded data removed]",
      "text/plain": [
       "<Figure size 432x288 with 1 Axes>"
      ]
     },
     "metadata": {
      "needs_background": "light"
     },
     "output_type": "display_data"
    }
   ],
   "source": [
    "# number of households by social group\n",
    "sns.countplot(x=\"social_group\", data=df_2)\n",
    "plt.xticks(rotation=90);"
   ]
  },
  {
   "cell_type": "code",
   "execution_count": 22,
   "metadata": {},
   "outputs": [
    {
     "data": {
      "text/plain": [
       "array(['03', '01', '02', '07', '06', '08', '10', 'NN', '04', '09', '05',\n",
       "       '2', '3', '1', '9', '7', '4', '5', '8', '6'], dtype=object)"
      ]
     },
     "execution_count": 22,
     "metadata": {},
     "output_type": "execute_result"
    }
   ],
   "source": [
    "df_2.cooking_code.unique()"
   ]
  },
  {
   "cell_type": "code",
   "execution_count": 23,
   "metadata": {},
   "outputs": [
    {
     "data": {
      "text/plain": [
       "array(['5', '4', '1', 'N', '6', '9', '3', '2'], dtype=object)"
      ]
     },
     "execution_count": 23,
     "metadata": {},
     "output_type": "execute_result"
    }
   ],
   "source": [
    "df_2.lighting_code.unique()"
   ]
  },
  {
   "cell_type": "code",
   "execution_count": 24,
   "metadata": {},
   "outputs": [
    {
     "data": {
      "image/png": "[encoded data removed]",
      "text/plain": [
       "<Figure size 432x288 with 1 Axes>"
      ]
     },
     "metadata": {
      "needs_background": "light"
     },
     "output_type": "display_data"
    }
   ],
   "source": [
    "# number of households by lighting code\n",
    "sns.countplot(x=\"lighting_code\", data=df_2)\n",
    "plt.xticks(rotation=90);"
   ]
  },
  {
   "cell_type": "code",
   "execution_count": 25,
   "metadata": {},
   "outputs": [
    {
     "data": {
      "text/plain": [
       "array(['1', '2', 'N', '9', '3'], dtype=object)"
      ]
     },
     "execution_count": 25,
     "metadata": {},
     "output_type": "execute_result"
    }
   ],
   "source": [
    "df_2.dwelling_unit.unique()"
   ]
  },
  {
   "cell_type": "code",
   "execution_count": 26,
   "metadata": {},
   "outputs": [
    {
     "data": {
      "image/png": "[encoded data removed]",
      "text/plain": [
       "<Figure size 432x288 with 1 Axes>"
      ]
     },
     "metadata": {
      "needs_background": "light"
     },
     "output_type": "display_data"
    }
   ],
   "source": [
    "# number of households by dwelling unit\n",
    "sns.countplot(x=\"dwelling_unit\", data=df_2)\n",
    "plt.xticks(rotation=90);"
   ]
  },
  {
   "cell_type": "code",
   "execution_count": 27,
   "metadata": {},
   "outputs": [
    {
     "data": {
      "text/plain": [
       "array([ 1.,  2., nan])"
      ]
     },
     "execution_count": 27,
     "metadata": {},
     "output_type": "execute_result"
    }
   ],
   "source": [
    "df_2.salary_income.unique()"
   ]
  },
  {
   "cell_type": "code",
   "execution_count": 28,
   "metadata": {},
   "outputs": [
    {
     "data": {
      "text/plain": [
       "2.0    0.723772\n",
       "1.0    0.276119\n",
       "NaN    0.000109\n",
       "Name: salary_income, dtype: float64"
      ]
     },
     "execution_count": 28,
     "metadata": {},
     "output_type": "execute_result"
    }
   ],
   "source": [
    "# ratio of households in each category\n",
    "df_2.salary_income.value_counts(normalize=True, dropna=False)"
   ]
  },
  {
   "cell_type": "code",
   "execution_count": 29,
   "metadata": {},
   "outputs": [
    {
     "data": {
      "text/plain": [
       "array([ 2.,  1., nan])"
      ]
     },
     "execution_count": 29,
     "metadata": {},
     "output_type": "execute_result"
    }
   ],
   "source": [
    "df_2.internet_access.unique()"
   ]
  },
  {
   "cell_type": "code",
   "execution_count": 30,
   "metadata": {},
   "outputs": [
    {
     "data": {
      "text/plain": [
       "2.0    0.974101\n",
       "1.0    0.025641\n",
       "NaN    0.000258\n",
       "Name: internet_access, dtype: float64"
      ]
     },
     "execution_count": 30,
     "metadata": {},
     "output_type": "execute_result"
    }
   ],
   "source": [
    "# ratio of households in each category\n",
    "df_2.internet_access.value_counts(normalize=True, dropna=False)"
   ]
  },
  {
   "cell_type": "code",
   "execution_count": 31,
   "metadata": {},
   "outputs": [
    {
     "data": {
      "text/plain": [
       "count    100855.000000\n",
       "mean       1493.742007\n",
       "std        2711.417806\n",
       "min           2.500000\n",
       "25%         741.500000\n",
       "50%        1078.000000\n",
       "75%        1703.750000\n",
       "max      405618.500000\n",
       "Name: mpce_urp, dtype: float64"
      ]
     },
     "execution_count": 31,
     "metadata": {},
     "output_type": "execute_result"
    }
   ],
   "source": [
    "df_2.mpce_urp.describe()"
   ]
  },
  {
   "cell_type": "code",
   "execution_count": 32,
   "metadata": {},
   "outputs": [
    {
     "data": {
      "image/png": "[encoded data removed]",
      "text/plain": [
       "<Figure size 432x288 with 1 Axes>"
      ]
     },
     "metadata": {
      "needs_background": "light"
     },
     "output_type": "display_data"
    }
   ],
   "source": [
    "# distribution of mpce_urp\n",
    "sns.histplot(data=df_2, x=\"mpce_urp\");"
   ]
  },
  {
   "cell_type": "code",
   "execution_count": 33,
   "metadata": {},
   "outputs": [
    {
     "data": {
      "text/plain": [
       "count    100855.000000\n",
       "mean       1527.928448\n",
       "std        1525.071091\n",
       "min          12.770000\n",
       "25%         783.840000\n",
       "50%        1132.080000\n",
       "75%        1779.715000\n",
       "max      108545.480000\n",
       "Name: mpce_mrp, dtype: float64"
      ]
     },
     "execution_count": 33,
     "metadata": {},
     "output_type": "execute_result"
    }
   ],
   "source": [
    "df_2.mpce_mrp.describe()"
   ]
  },
  {
   "cell_type": "code",
   "execution_count": 34,
   "metadata": {},
   "outputs": [
    {
     "data": {
      "image/png": "[encoded data removed]",
      "text/plain": [
       "<Figure size 432x288 with 1 Axes>"
      ]
     },
     "metadata": {
      "needs_background": "light"
     },
     "output_type": "display_data"
    }
   ],
   "source": [
    "# distribution of mpce_mrp\n",
    "sns.histplot(data=df_2, x=\"mpce_mrp\");"
   ]
  },
  {
   "cell_type": "markdown",
   "metadata": {},
   "source": [
    "#### Data Understanding\n",
    "- Each row is representative of one household surveyed. There are 100855 households\n",
    "- hh_size includes temporary stay aways but excludes temporary visitors. Min: 1, Max: 35\n",
    "- hh_type indicates the household type based on the livelihood\n",
    "- cooking_code indicates the primary source of energy used for cooking\n",
    "- lighting_code indicates the primary source of energy used for lighting. Majority use electricity (5) followed by kerosene (1)\n",
    "- dwelling_unit describes accommodation availed of by a household for its residential purpose. Majority are owned\n",
    "- salary_income: Any member of the household earn  regular salary ? 1-yes, 2-no. 11 rows have null values, 72.38% have atleast one member earning regular salary\n",
    "- internet_access: Household has access to internet at home on the date of survey 1-yes, 2-no. 24 rows have null values, 97.4% have no internet access\n",
    "- mpce_urp: monthly per capita expenditure using uniform reference period. Highly skewed to the left\n",
    "\n",
    "*Uniform Reference Period MPCE (or MPCEURP): This is the measure of MPCE obtained by the NSS consumer expenditure survey (CES) when household consumer expenditure on each item is recorded for a reference period of “last 30 days” (preceding the date of survey)*\n",
    "- mpce_mrp: monthly per capita expenditure using mixed reference period. Skewed to left\n",
    "\n",
    "*Mixed Reference Period MPCE measures consumption of five low-frequency items (clothing, footwear, durables, education and  institutional health expenditure) over the previous year, and all other items over the previous 30 days.*"
   ]
  },
  {
   "cell_type": "markdown",
   "metadata": {},
   "source": [
    "#### Data queries\n",
    "- What is meant by principal industry of household? (nic_2004)\n",
    "- Some nco_2004 categories don't have any description. How to interpret them? What does null indicate?\n",
    "- What does N indicate in hh_type, religion?\n",
    "- Shall we map the categories here?"
   ]
  },
  {
   "cell_type": "markdown",
   "metadata": {},
   "source": [
    "#### Data cleaning\n",
    "- change hh_id to string datatype. Each string should have 9 characters\n",
    "- In religion some categories are repeated some take as strings others numbers. Convert all to string\n",
    "- In cooking_code some categories are repeated due to leading zeros. Convert all to have two characters\n",
    "- Convert salary_income and internet access to boolean"
   ]
  },
  {
   "cell_type": "markdown",
   "metadata": {},
   "source": [
    "### Demographics"
   ]
  },
  {
   "cell_type": "code",
   "execution_count": 35,
   "metadata": {},
   "outputs": [
    {
     "name": "stderr",
     "output_type": "stream",
     "text": [
      "C:\\Users\\Sushmitha\\anaconda3\\lib\\site-packages\\IPython\\core\\interactiveshell.py:3146: DtypeWarning: Columns (5,6) have mixed types.Specify dtype option on import or set low_memory=False.\n",
      "  has_raised = await self.run_ast_nodes(code_ast.body, cell_name,\n"
     ]
    },
    {
     "data": {
      "text/html": [
       "<div>\n",
       "<style scoped>\n",
       "    .dataframe tbody tr th:only-of-type {\n",
       "        vertical-align: middle;\n",
       "    }\n",
       "\n",
       "    .dataframe tbody tr th {\n",
       "        vertical-align: top;\n",
       "    }\n",
       "\n",
       "    .dataframe thead th {\n",
       "        text-align: right;\n",
       "    }\n",
       "</style>\n",
       "<table border=\"1\" class=\"dataframe\">\n",
       "  <thead>\n",
       "    <tr style=\"text-align: right;\">\n",
       "      <th></th>\n",
       "      <th>hh_id</th>\n",
       "      <th>person_serial_no</th>\n",
       "      <th>relation</th>\n",
       "      <th>sex</th>\n",
       "      <th>age</th>\n",
       "      <th>marital_status</th>\n",
       "      <th>education</th>\n",
       "      <th>days_stayed_away</th>\n",
       "      <th>meals_per_day</th>\n",
       "      <th>meals_school</th>\n",
       "      <th>meals_employer</th>\n",
       "      <th>meals_others</th>\n",
       "      <th>meals_payment</th>\n",
       "      <th>meals_home</th>\n",
       "    </tr>\n",
       "  </thead>\n",
       "  <tbody>\n",
       "    <tr>\n",
       "      <th>0</th>\n",
       "      <td>1101</td>\n",
       "      <td>1</td>\n",
       "      <td>1</td>\n",
       "      <td>1</td>\n",
       "      <td>36.0</td>\n",
       "      <td>2</td>\n",
       "      <td>08</td>\n",
       "      <td>0.0</td>\n",
       "      <td>2.0</td>\n",
       "      <td>0.0</td>\n",
       "      <td>0.0</td>\n",
       "      <td>0.0</td>\n",
       "      <td>0.0</td>\n",
       "      <td>60.0</td>\n",
       "    </tr>\n",
       "    <tr>\n",
       "      <th>1</th>\n",
       "      <td>1101</td>\n",
       "      <td>2</td>\n",
       "      <td>2</td>\n",
       "      <td>2</td>\n",
       "      <td>32.0</td>\n",
       "      <td>2</td>\n",
       "      <td>12</td>\n",
       "      <td>0.0</td>\n",
       "      <td>2.0</td>\n",
       "      <td>0.0</td>\n",
       "      <td>0.0</td>\n",
       "      <td>0.0</td>\n",
       "      <td>0.0</td>\n",
       "      <td>60.0</td>\n",
       "    </tr>\n",
       "    <tr>\n",
       "      <th>2</th>\n",
       "      <td>1101</td>\n",
       "      <td>3</td>\n",
       "      <td>5</td>\n",
       "      <td>2</td>\n",
       "      <td>0.0</td>\n",
       "      <td>1</td>\n",
       "      <td>01</td>\n",
       "      <td>0.0</td>\n",
       "      <td>0.0</td>\n",
       "      <td>0.0</td>\n",
       "      <td>0.0</td>\n",
       "      <td>0.0</td>\n",
       "      <td>0.0</td>\n",
       "      <td>0.0</td>\n",
       "    </tr>\n",
       "    <tr>\n",
       "      <th>3</th>\n",
       "      <td>1102</td>\n",
       "      <td>1</td>\n",
       "      <td>1</td>\n",
       "      <td>1</td>\n",
       "      <td>21.0</td>\n",
       "      <td>1</td>\n",
       "      <td>10</td>\n",
       "      <td>2.0</td>\n",
       "      <td>2.0</td>\n",
       "      <td>0.0</td>\n",
       "      <td>0.0</td>\n",
       "      <td>4.0</td>\n",
       "      <td>0.0</td>\n",
       "      <td>56.0</td>\n",
       "    </tr>\n",
       "    <tr>\n",
       "      <th>4</th>\n",
       "      <td>1103</td>\n",
       "      <td>1</td>\n",
       "      <td>1</td>\n",
       "      <td>1</td>\n",
       "      <td>20.0</td>\n",
       "      <td>1</td>\n",
       "      <td>10</td>\n",
       "      <td>0.0</td>\n",
       "      <td>2.0</td>\n",
       "      <td>0.0</td>\n",
       "      <td>0.0</td>\n",
       "      <td>2.0</td>\n",
       "      <td>0.0</td>\n",
       "      <td>58.0</td>\n",
       "    </tr>\n",
       "  </tbody>\n",
       "</table>\n",
       "</div>"
      ],
      "text/plain": [
       "   hh_id  person_serial_no  relation  sex   age marital_status education  \\\n",
       "0   1101                 1         1    1  36.0              2        08   \n",
       "1   1101                 2         2    2  32.0              2        12   \n",
       "2   1101                 3         5    2   0.0              1        01   \n",
       "3   1102                 1         1    1  21.0              1        10   \n",
       "4   1103                 1         1    1  20.0              1        10   \n",
       "\n",
       "   days_stayed_away  meals_per_day  meals_school  meals_employer  \\\n",
       "0               0.0            2.0           0.0             0.0   \n",
       "1               0.0            2.0           0.0             0.0   \n",
       "2               0.0            0.0           0.0             0.0   \n",
       "3               2.0            2.0           0.0             0.0   \n",
       "4               0.0            2.0           0.0             0.0   \n",
       "\n",
       "   meals_others  meals_payment  meals_home  \n",
       "0           0.0            0.0        60.0  \n",
       "1           0.0            0.0        60.0  \n",
       "2           0.0            0.0         0.0  \n",
       "3           4.0            0.0        56.0  \n",
       "4           2.0            0.0        58.0  "
      ]
     },
     "execution_count": 35,
     "metadata": {},
     "output_type": "execute_result"
    }
   ],
   "source": [
    "#read data\n",
    "df_3=pd.read_csv('Demographics.csv')\n",
    "df_3.head()"
   ]
  },
  {
   "cell_type": "code",
   "execution_count": 36,
   "metadata": {},
   "outputs": [
    {
     "name": "stdout",
     "output_type": "stream",
     "text": [
      "<class 'pandas.core.frame.DataFrame'>\n",
      "RangeIndex: 468551 entries, 0 to 468550\n",
      "Data columns (total 14 columns):\n",
      " #   Column            Non-Null Count   Dtype  \n",
      "---  ------            --------------   -----  \n",
      " 0   hh_id             468551 non-null  int64  \n",
      " 1   person_serial_no  468551 non-null  int64  \n",
      " 2   relation          468551 non-null  int64  \n",
      " 3   sex               468551 non-null  int64  \n",
      " 4   age               468550 non-null  float64\n",
      " 5   marital_status    468551 non-null  object \n",
      " 6   education         468551 non-null  object \n",
      " 7   days_stayed_away  179929 non-null  float64\n",
      " 8   meals_per_day     468481 non-null  float64\n",
      " 9   meals_school      138457 non-null  float64\n",
      " 10  meals_employer    117606 non-null  float64\n",
      " 11  meals_others      146192 non-null  float64\n",
      " 12  meals_payment     128067 non-null  float64\n",
      " 13  meals_home        466869 non-null  float64\n",
      "dtypes: float64(8), int64(4), object(2)\n",
      "memory usage: 50.0+ MB\n"
     ]
    }
   ],
   "source": [
    "df_3.info()"
   ]
  },
  {
   "cell_type": "code",
   "execution_count": 37,
   "metadata": {},
   "outputs": [
    {
     "data": {
      "text/html": [
       "<div>\n",
       "<style scoped>\n",
       "    .dataframe tbody tr th:only-of-type {\n",
       "        vertical-align: middle;\n",
       "    }\n",
       "\n",
       "    .dataframe tbody tr th {\n",
       "        vertical-align: top;\n",
       "    }\n",
       "\n",
       "    .dataframe thead th {\n",
       "        text-align: right;\n",
       "    }\n",
       "</style>\n",
       "<table border=\"1\" class=\"dataframe\">\n",
       "  <thead>\n",
       "    <tr style=\"text-align: right;\">\n",
       "      <th></th>\n",
       "      <th>hh_id</th>\n",
       "      <th>person_serial_no</th>\n",
       "      <th>relation</th>\n",
       "      <th>sex</th>\n",
       "      <th>age</th>\n",
       "      <th>days_stayed_away</th>\n",
       "      <th>meals_per_day</th>\n",
       "      <th>meals_school</th>\n",
       "      <th>meals_employer</th>\n",
       "      <th>meals_others</th>\n",
       "      <th>meals_payment</th>\n",
       "      <th>meals_home</th>\n",
       "    </tr>\n",
       "  </thead>\n",
       "  <tbody>\n",
       "    <tr>\n",
       "      <th>count</th>\n",
       "      <td>4.685510e+05</td>\n",
       "      <td>468551.000000</td>\n",
       "      <td>468551.000000</td>\n",
       "      <td>468551.000000</td>\n",
       "      <td>468550.000000</td>\n",
       "      <td>179929.000000</td>\n",
       "      <td>468481.000000</td>\n",
       "      <td>138457.000000</td>\n",
       "      <td>117606.000000</td>\n",
       "      <td>146192.000000</td>\n",
       "      <td>128067.000000</td>\n",
       "      <td>466869.000000</td>\n",
       "    </tr>\n",
       "    <tr>\n",
       "      <th>mean</th>\n",
       "      <td>5.358409e+08</td>\n",
       "      <td>3.411321</td>\n",
       "      <td>3.707210</td>\n",
       "      <td>1.485057</td>\n",
       "      <td>28.168772</td>\n",
       "      <td>0.910198</td>\n",
       "      <td>2.449280</td>\n",
       "      <td>4.223030</td>\n",
       "      <td>0.407080</td>\n",
       "      <td>2.493693</td>\n",
       "      <td>1.679035</td>\n",
       "      <td>71.016326</td>\n",
       "    </tr>\n",
       "    <tr>\n",
       "      <th>std</th>\n",
       "      <td>3.930665e+08</td>\n",
       "      <td>2.329007</td>\n",
       "      <td>2.031355</td>\n",
       "      <td>0.499777</td>\n",
       "      <td>19.002329</td>\n",
       "      <td>3.155464</td>\n",
       "      <td>0.565077</td>\n",
       "      <td>8.422282</td>\n",
       "      <td>4.354444</td>\n",
       "      <td>7.908413</td>\n",
       "      <td>8.204721</td>\n",
       "      <td>17.363391</td>\n",
       "    </tr>\n",
       "    <tr>\n",
       "      <th>min</th>\n",
       "      <td>1.101000e+03</td>\n",
       "      <td>1.000000</td>\n",
       "      <td>1.000000</td>\n",
       "      <td>1.000000</td>\n",
       "      <td>0.000000</td>\n",
       "      <td>0.000000</td>\n",
       "      <td>0.000000</td>\n",
       "      <td>0.000000</td>\n",
       "      <td>0.000000</td>\n",
       "      <td>0.000000</td>\n",
       "      <td>0.000000</td>\n",
       "      <td>0.000000</td>\n",
       "    </tr>\n",
       "    <tr>\n",
       "      <th>25%</th>\n",
       "      <td>4.936110e+07</td>\n",
       "      <td>2.000000</td>\n",
       "      <td>2.000000</td>\n",
       "      <td>1.000000</td>\n",
       "      <td>13.000000</td>\n",
       "      <td>0.000000</td>\n",
       "      <td>2.000000</td>\n",
       "      <td>0.000000</td>\n",
       "      <td>0.000000</td>\n",
       "      <td>0.000000</td>\n",
       "      <td>0.000000</td>\n",
       "      <td>60.000000</td>\n",
       "    </tr>\n",
       "    <tr>\n",
       "      <th>50%</th>\n",
       "      <td>8.141311e+08</td>\n",
       "      <td>3.000000</td>\n",
       "      <td>5.000000</td>\n",
       "      <td>1.000000</td>\n",
       "      <td>25.000000</td>\n",
       "      <td>0.000000</td>\n",
       "      <td>2.000000</td>\n",
       "      <td>0.000000</td>\n",
       "      <td>0.000000</td>\n",
       "      <td>0.000000</td>\n",
       "      <td>0.000000</td>\n",
       "      <td>60.000000</td>\n",
       "    </tr>\n",
       "    <tr>\n",
       "      <th>75%</th>\n",
       "      <td>8.503422e+08</td>\n",
       "      <td>5.000000</td>\n",
       "      <td>5.000000</td>\n",
       "      <td>2.000000</td>\n",
       "      <td>41.000000</td>\n",
       "      <td>0.000000</td>\n",
       "      <td>3.000000</td>\n",
       "      <td>0.000000</td>\n",
       "      <td>0.000000</td>\n",
       "      <td>1.000000</td>\n",
       "      <td>0.000000</td>\n",
       "      <td>90.000000</td>\n",
       "    </tr>\n",
       "    <tr>\n",
       "      <th>max</th>\n",
       "      <td>8.999923e+08</td>\n",
       "      <td>35.000000</td>\n",
       "      <td>9.000000</td>\n",
       "      <td>2.000000</td>\n",
       "      <td>120.000000</td>\n",
       "      <td>30.000000</td>\n",
       "      <td>3.000000</td>\n",
       "      <td>90.000000</td>\n",
       "      <td>90.000000</td>\n",
       "      <td>90.000000</td>\n",
       "      <td>90.000000</td>\n",
       "      <td>90.000000</td>\n",
       "    </tr>\n",
       "  </tbody>\n",
       "</table>\n",
       "</div>"
      ],
      "text/plain": [
       "              hh_id  person_serial_no       relation            sex  \\\n",
       "count  4.685510e+05     468551.000000  468551.000000  468551.000000   \n",
       "mean   5.358409e+08          3.411321       3.707210       1.485057   \n",
       "std    3.930665e+08          2.329007       2.031355       0.499777   \n",
       "min    1.101000e+03          1.000000       1.000000       1.000000   \n",
       "25%    4.936110e+07          2.000000       2.000000       1.000000   \n",
       "50%    8.141311e+08          3.000000       5.000000       1.000000   \n",
       "75%    8.503422e+08          5.000000       5.000000       2.000000   \n",
       "max    8.999923e+08         35.000000       9.000000       2.000000   \n",
       "\n",
       "                 age  days_stayed_away  meals_per_day   meals_school  \\\n",
       "count  468550.000000     179929.000000  468481.000000  138457.000000   \n",
       "mean       28.168772          0.910198       2.449280       4.223030   \n",
       "std        19.002329          3.155464       0.565077       8.422282   \n",
       "min         0.000000          0.000000       0.000000       0.000000   \n",
       "25%        13.000000          0.000000       2.000000       0.000000   \n",
       "50%        25.000000          0.000000       2.000000       0.000000   \n",
       "75%        41.000000          0.000000       3.000000       0.000000   \n",
       "max       120.000000         30.000000       3.000000      90.000000   \n",
       "\n",
       "       meals_employer   meals_others  meals_payment     meals_home  \n",
       "count   117606.000000  146192.000000  128067.000000  466869.000000  \n",
       "mean         0.407080       2.493693       1.679035      71.016326  \n",
       "std          4.354444       7.908413       8.204721      17.363391  \n",
       "min          0.000000       0.000000       0.000000       0.000000  \n",
       "25%          0.000000       0.000000       0.000000      60.000000  \n",
       "50%          0.000000       0.000000       0.000000      60.000000  \n",
       "75%          0.000000       1.000000       0.000000      90.000000  \n",
       "max         90.000000      90.000000      90.000000      90.000000  "
      ]
     },
     "execution_count": 37,
     "metadata": {},
     "output_type": "execute_result"
    }
   ],
   "source": [
    "df_3.describe()"
   ]
  },
  {
   "cell_type": "code",
   "execution_count": 38,
   "metadata": {},
   "outputs": [
    {
     "data": {
      "text/plain": [
       "array([1, 2, 5, 3, 4, 6, 7, 8, 9], dtype=int64)"
      ]
     },
     "execution_count": 38,
     "metadata": {},
     "output_type": "execute_result"
    }
   ],
   "source": [
    "df_3.relation.unique()"
   ]
  },
  {
   "cell_type": "code",
   "execution_count": 39,
   "metadata": {},
   "outputs": [
    {
     "data": {
      "image/png": "[encoded data removed]",
      "text/plain": [
       "<Figure size 432x288 with 1 Axes>"
      ]
     },
     "metadata": {
      "needs_background": "light"
     },
     "output_type": "display_data"
    }
   ],
   "source": [
    "# count of people by their relation to head\n",
    "sns.countplot(x=\"relation\", data=df_3)\n",
    "plt.xticks(rotation=90);"
   ]
  },
  {
   "cell_type": "code",
   "execution_count": 40,
   "metadata": {},
   "outputs": [
    {
     "data": {
      "image/png": "[encoded data removed]",
      "text/plain": [
       "<Figure size 432x288 with 1 Axes>"
      ]
     },
     "metadata": {
      "needs_background": "light"
     },
     "output_type": "display_data"
    }
   ],
   "source": [
    "# count of people by sex\n",
    "sns.countplot(x=\"sex\", data=df_3)\n",
    "plt.xticks(rotation=90);"
   ]
  },
  {
   "cell_type": "code",
   "execution_count": 41,
   "metadata": {},
   "outputs": [
    {
     "data": {
      "image/png": "[encoded data removed]",
      "text/plain": [
       "<Figure size 432x288 with 1 Axes>"
      ]
     },
     "metadata": {
      "needs_background": "light"
     },
     "output_type": "display_data"
    }
   ],
   "source": [
    "# distribution of age\n",
    "sns.histplot(data=df_3, x=\"age\");"
   ]
  },
  {
   "cell_type": "code",
   "execution_count": 42,
   "metadata": {},
   "outputs": [
    {
     "data": {
      "text/plain": [
       "array(['2', '1', '3', '4', 'N', 1, 2, 3, 4], dtype=object)"
      ]
     },
     "execution_count": 42,
     "metadata": {},
     "output_type": "execute_result"
    }
   ],
   "source": [
    "df_3.marital_status.unique()"
   ]
  },
  {
   "cell_type": "code",
   "execution_count": 43,
   "metadata": {},
   "outputs": [
    {
     "data": {
      "text/plain": [
       "array(['08', '12', '01', '10', '06', '05', '07', '13', '11', '04', 'NN',\n",
       "       '03', '02', '7', '5', '6', '1', '8', '2', '4', '3', 6, 1, 7, 13, 5,\n",
       "       12, 8, 10, 4, 11, 3, 2], dtype=object)"
      ]
     },
     "execution_count": 43,
     "metadata": {},
     "output_type": "execute_result"
    }
   ],
   "source": [
    "df_3.education.unique()"
   ]
  },
  {
   "cell_type": "code",
   "execution_count": 44,
   "metadata": {},
   "outputs": [
    {
     "data": {
      "text/plain": [
       "hh_id               0.000000\n",
       "person_serial_no    0.000000\n",
       "relation            0.000000\n",
       "sex                 0.000000\n",
       "age                 0.000002\n",
       "marital_status      0.000000\n",
       "education           0.000000\n",
       "days_stayed_away    0.615988\n",
       "meals_per_day       0.000149\n",
       "meals_school        0.704500\n",
       "meals_employer      0.749001\n",
       "meals_others        0.687991\n",
       "meals_payment       0.726674\n",
       "meals_home          0.003590\n",
       "dtype: float64"
      ]
     },
     "execution_count": 44,
     "metadata": {},
     "output_type": "execute_result"
    }
   ],
   "source": [
    "df_3.isna().sum()/df_3.shape[0]"
   ]
  },
  {
   "cell_type": "code",
   "execution_count": 45,
   "metadata": {},
   "outputs": [
    {
     "data": {
      "image/png": "[encoded data removed]",
      "text/plain": [
       "<Figure size 432x288 with 1 Axes>"
      ]
     },
     "metadata": {
      "needs_background": "light"
     },
     "output_type": "display_data"
    }
   ],
   "source": [
    "# count of people by meals per day\n",
    "sns.countplot(x=\"meals_per_day\", data=df_3)\n",
    "plt.xticks(rotation=90);"
   ]
  },
  {
   "cell_type": "code",
   "execution_count": 46,
   "metadata": {},
   "outputs": [],
   "source": [
    "# ratios in each category\n",
    "#df_3.meals_school.value_counts(normalize=True, dropna=False)"
   ]
  },
  {
   "cell_type": "code",
   "execution_count": 47,
   "metadata": {},
   "outputs": [
    {
     "data": {
      "image/png": "[encoded data removed]",
      "text/plain": [
       "<Figure size 432x288 with 1 Axes>"
      ]
     },
     "metadata": {
      "needs_background": "light"
     },
     "output_type": "display_data"
    }
   ],
   "source": [
    "# distribution of meals_home\n",
    "sns.histplot(data=df_3, x=\"meals_home\");"
   ]
  },
  {
   "cell_type": "markdown",
   "metadata": {},
   "source": [
    "#### Data understanding\n",
    "- Each row indicates a person in a household\n",
    "- person_serial_no assigns consecutive numbers for members of same household\n",
    "- relation indicates how the person is related to head of household\n",
    "- Sex 1: Male 2: Female. Almost equal representation\n",
    "- Age ranges from 0 to 120\n",
    "- days_stayed_away: number of days stayed away from home during last 30 days; 61% empty\n",
    "- meals_per_day: number of meals usually taken in a day. Majority have 2 meals per day followed by 3"
   ]
  },
  {
   "cell_type": "markdown",
   "metadata": {},
   "source": [
    "#### Data queries\n",
    "- For different meals column, does the value indicate number of meals taken in that category in last 30days?\n",
    "- How to interpret null values for days_stayed_away, meals_per_day, meals_school, meals_employer, meals_other, meals_payment, meals_home?\n",
    "- Shall we map the categories here?"
   ]
  },
  {
   "cell_type": "markdown",
   "metadata": {},
   "source": [
    "#### Data cleaning\n",
    "- change hh_id to string datatype. Each string should have 9 characters\n",
    "- change relation, sex to category type\n",
    "- Marital status, Education have categories repeated twice. Convert all to strings"
   ]
  },
  {
   "cell_type": "markdown",
   "metadata": {},
   "source": [
    "### Expenditure on Miscellaneous Goods"
   ]
  },
  {
   "cell_type": "code",
   "execution_count": 48,
   "metadata": {},
   "outputs": [
    {
     "data": {
      "text/html": [
       "<div>\n",
       "<style scoped>\n",
       "    .dataframe tbody tr th:only-of-type {\n",
       "        vertical-align: middle;\n",
       "    }\n",
       "\n",
       "    .dataframe tbody tr th {\n",
       "        vertical-align: top;\n",
       "    }\n",
       "\n",
       "    .dataframe thead th {\n",
       "        text-align: right;\n",
       "    }\n",
       "</style>\n",
       "<table border=\"1\" class=\"dataframe\">\n",
       "  <thead>\n",
       "    <tr style=\"text-align: right;\">\n",
       "      <th></th>\n",
       "      <th>hh_id</th>\n",
       "      <th>item_code</th>\n",
       "      <th>value</th>\n",
       "    </tr>\n",
       "  </thead>\n",
       "  <tbody>\n",
       "    <tr>\n",
       "      <th>0</th>\n",
       "      <td>1101</td>\n",
       "      <td>437</td>\n",
       "      <td>300</td>\n",
       "    </tr>\n",
       "    <tr>\n",
       "      <th>1</th>\n",
       "      <td>1101</td>\n",
       "      <td>439</td>\n",
       "      <td>300</td>\n",
       "    </tr>\n",
       "    <tr>\n",
       "      <th>2</th>\n",
       "      <td>1101</td>\n",
       "      <td>441</td>\n",
       "      <td>100</td>\n",
       "    </tr>\n",
       "    <tr>\n",
       "      <th>3</th>\n",
       "      <td>1101</td>\n",
       "      <td>449</td>\n",
       "      <td>100</td>\n",
       "    </tr>\n",
       "    <tr>\n",
       "      <th>4</th>\n",
       "      <td>1101</td>\n",
       "      <td>450</td>\n",
       "      <td>40</td>\n",
       "    </tr>\n",
       "  </tbody>\n",
       "</table>\n",
       "</div>"
      ],
      "text/plain": [
       "   hh_id  item_code  value\n",
       "0   1101        437    300\n",
       "1   1101        439    300\n",
       "2   1101        441    100\n",
       "3   1101        449    100\n",
       "4   1101        450     40"
      ]
     },
     "execution_count": 48,
     "metadata": {},
     "output_type": "execute_result"
    }
   ],
   "source": [
    "#read data\n",
    "df_4=pd.read_csv('ExpenditureOnMiscellaneousGoods.csv')\n",
    "df_4.head()"
   ]
  },
  {
   "cell_type": "code",
   "execution_count": 49,
   "metadata": {},
   "outputs": [
    {
     "name": "stdout",
     "output_type": "stream",
     "text": [
      "<class 'pandas.core.frame.DataFrame'>\n",
      "RangeIndex: 2163878 entries, 0 to 2163877\n",
      "Data columns (total 3 columns):\n",
      " #   Column     Dtype\n",
      "---  ------     -----\n",
      " 0   hh_id      int64\n",
      " 1   item_code  int64\n",
      " 2   value      int64\n",
      "dtypes: int64(3)\n",
      "memory usage: 49.5 MB\n"
     ]
    }
   ],
   "source": [
    "df_4.info()"
   ]
  },
  {
   "cell_type": "code",
   "execution_count": 50,
   "metadata": {},
   "outputs": [
    {
     "data": {
      "text/plain": [
       "hh_id        0\n",
       "item_code    0\n",
       "value        0\n",
       "dtype: int64"
      ]
     },
     "execution_count": 50,
     "metadata": {},
     "output_type": "execute_result"
    }
   ],
   "source": [
    "# finding number of null values\n",
    "df_4.isnull().sum()"
   ]
  },
  {
   "cell_type": "code",
   "execution_count": 51,
   "metadata": {},
   "outputs": [
    {
     "data": {
      "text/plain": [
       "array([437, 439, 441, 449, 450, 451, 452, 453, 454, 455, 457, 459, 461,\n",
       "       467, 468, 470, 472, 479, 483, 486, 488, 491, 496, 499, 503, 505,\n",
       "       508, 511, 519, 522, 529, 539, 540, 541, 549, 435, 465, 484, 502,\n",
       "       520, 430, 442, 490, 423, 429, 432, 443, 460, 463, 466, 495, 512,\n",
       "       420, 471, 507, 493, 462, 513, 438, 444, 445, 421, 424, 422, 440,\n",
       "       456, 431, 464, 487, 473, 510, 485, 436, 480, 492, 494, 434, 521,\n",
       "       482, 504, 523, 506, 433, 481, 501, 500], dtype=int64)"
      ]
     },
     "execution_count": 51,
     "metadata": {},
     "output_type": "execute_result"
    }
   ],
   "source": [
    "df_4.item_code.unique()"
   ]
  },
  {
   "cell_type": "code",
   "execution_count": 52,
   "metadata": {},
   "outputs": [
    {
     "data": {
      "text/plain": [
       "count    2.163878e+06\n",
       "mean     1.660395e+02\n",
       "std      5.441549e+02\n",
       "min      0.000000e+00\n",
       "25%      2.000000e+01\n",
       "50%      5.000000e+01\n",
       "75%      1.450000e+02\n",
       "max      9.050000e+04\n",
       "Name: value, dtype: float64"
      ]
     },
     "execution_count": 52,
     "metadata": {},
     "output_type": "execute_result"
    }
   ],
   "source": [
    "df_4.value.describe()"
   ]
  },
  {
   "cell_type": "markdown",
   "metadata": {},
   "source": [
    "#### Data Understanding\n",
    "- Each row indicates expenditure on one category of miscellaneous goods\n",
    "- There are no null values"
   ]
  },
  {
   "cell_type": "markdown",
   "metadata": {},
   "source": [
    "#### Data Cleaning\n",
    "- Convert from long format to wide format and subset only required columns **DONE**\n",
    "- Replace na with 0 **DONE**\n",
    "- change hh_id to string datatype. Each string should have 9 characters"
   ]
  },
  {
   "cell_type": "code",
   "execution_count": 53,
   "metadata": {},
   "outputs": [
    {
     "data": {
      "text/html": [
       "<div>\n",
       "<style scoped>\n",
       "    .dataframe tbody tr th:only-of-type {\n",
       "        vertical-align: middle;\n",
       "    }\n",
       "\n",
       "    .dataframe tbody tr th {\n",
       "        vertical-align: top;\n",
       "    }\n",
       "\n",
       "    .dataframe thead th {\n",
       "        text-align: right;\n",
       "    }\n",
       "</style>\n",
       "<table border=\"1\" class=\"dataframe\">\n",
       "  <thead>\n",
       "    <tr style=\"text-align: right;\">\n",
       "      <th>item_code</th>\n",
       "      <th>hh_id</th>\n",
       "      <th>420</th>\n",
       "      <th>421</th>\n",
       "      <th>422</th>\n",
       "      <th>423</th>\n",
       "      <th>424</th>\n",
       "      <th>429</th>\n",
       "      <th>430</th>\n",
       "      <th>431</th>\n",
       "      <th>432</th>\n",
       "      <th>...</th>\n",
       "      <th>519</th>\n",
       "      <th>520</th>\n",
       "      <th>521</th>\n",
       "      <th>522</th>\n",
       "      <th>523</th>\n",
       "      <th>529</th>\n",
       "      <th>539</th>\n",
       "      <th>540</th>\n",
       "      <th>541</th>\n",
       "      <th>549</th>\n",
       "    </tr>\n",
       "  </thead>\n",
       "  <tbody>\n",
       "    <tr>\n",
       "      <th>0</th>\n",
       "      <td>1101</td>\n",
       "      <td>NaN</td>\n",
       "      <td>NaN</td>\n",
       "      <td>NaN</td>\n",
       "      <td>NaN</td>\n",
       "      <td>NaN</td>\n",
       "      <td>NaN</td>\n",
       "      <td>NaN</td>\n",
       "      <td>NaN</td>\n",
       "      <td>NaN</td>\n",
       "      <td>...</td>\n",
       "      <td>485.0</td>\n",
       "      <td>NaN</td>\n",
       "      <td>NaN</td>\n",
       "      <td>3.0</td>\n",
       "      <td>NaN</td>\n",
       "      <td>3.0</td>\n",
       "      <td>4000.0</td>\n",
       "      <td>75.0</td>\n",
       "      <td>11.0</td>\n",
       "      <td>86.0</td>\n",
       "    </tr>\n",
       "    <tr>\n",
       "      <th>1</th>\n",
       "      <td>1102</td>\n",
       "      <td>NaN</td>\n",
       "      <td>NaN</td>\n",
       "      <td>NaN</td>\n",
       "      <td>NaN</td>\n",
       "      <td>NaN</td>\n",
       "      <td>NaN</td>\n",
       "      <td>NaN</td>\n",
       "      <td>NaN</td>\n",
       "      <td>NaN</td>\n",
       "      <td>...</td>\n",
       "      <td>60.0</td>\n",
       "      <td>500.0</td>\n",
       "      <td>NaN</td>\n",
       "      <td>NaN</td>\n",
       "      <td>NaN</td>\n",
       "      <td>500.0</td>\n",
       "      <td>500.0</td>\n",
       "      <td>NaN</td>\n",
       "      <td>NaN</td>\n",
       "      <td>NaN</td>\n",
       "    </tr>\n",
       "    <tr>\n",
       "      <th>2</th>\n",
       "      <td>1103</td>\n",
       "      <td>NaN</td>\n",
       "      <td>NaN</td>\n",
       "      <td>NaN</td>\n",
       "      <td>NaN</td>\n",
       "      <td>NaN</td>\n",
       "      <td>NaN</td>\n",
       "      <td>30.0</td>\n",
       "      <td>NaN</td>\n",
       "      <td>NaN</td>\n",
       "      <td>...</td>\n",
       "      <td>30.0</td>\n",
       "      <td>500.0</td>\n",
       "      <td>NaN</td>\n",
       "      <td>NaN</td>\n",
       "      <td>NaN</td>\n",
       "      <td>500.0</td>\n",
       "      <td>500.0</td>\n",
       "      <td>NaN</td>\n",
       "      <td>NaN</td>\n",
       "      <td>NaN</td>\n",
       "    </tr>\n",
       "    <tr>\n",
       "      <th>3</th>\n",
       "      <td>1104</td>\n",
       "      <td>NaN</td>\n",
       "      <td>NaN</td>\n",
       "      <td>NaN</td>\n",
       "      <td>10.0</td>\n",
       "      <td>NaN</td>\n",
       "      <td>10.0</td>\n",
       "      <td>NaN</td>\n",
       "      <td>NaN</td>\n",
       "      <td>150.0</td>\n",
       "      <td>...</td>\n",
       "      <td>1050.0</td>\n",
       "      <td>NaN</td>\n",
       "      <td>NaN</td>\n",
       "      <td>3.0</td>\n",
       "      <td>NaN</td>\n",
       "      <td>3.0</td>\n",
       "      <td>4500.0</td>\n",
       "      <td>75.0</td>\n",
       "      <td>11.0</td>\n",
       "      <td>86.0</td>\n",
       "    </tr>\n",
       "    <tr>\n",
       "      <th>4</th>\n",
       "      <td>1201</td>\n",
       "      <td>25.0</td>\n",
       "      <td>NaN</td>\n",
       "      <td>NaN</td>\n",
       "      <td>NaN</td>\n",
       "      <td>NaN</td>\n",
       "      <td>25.0</td>\n",
       "      <td>NaN</td>\n",
       "      <td>NaN</td>\n",
       "      <td>NaN</td>\n",
       "      <td>...</td>\n",
       "      <td>835.0</td>\n",
       "      <td>NaN</td>\n",
       "      <td>NaN</td>\n",
       "      <td>3.0</td>\n",
       "      <td>NaN</td>\n",
       "      <td>3.0</td>\n",
       "      <td>5000.0</td>\n",
       "      <td>75.0</td>\n",
       "      <td>11.0</td>\n",
       "      <td>86.0</td>\n",
       "    </tr>\n",
       "    <tr>\n",
       "      <th>...</th>\n",
       "      <td>...</td>\n",
       "      <td>...</td>\n",
       "      <td>...</td>\n",
       "      <td>...</td>\n",
       "      <td>...</td>\n",
       "      <td>...</td>\n",
       "      <td>...</td>\n",
       "      <td>...</td>\n",
       "      <td>...</td>\n",
       "      <td>...</td>\n",
       "      <td>...</td>\n",
       "      <td>...</td>\n",
       "      <td>...</td>\n",
       "      <td>...</td>\n",
       "      <td>...</td>\n",
       "      <td>...</td>\n",
       "      <td>...</td>\n",
       "      <td>...</td>\n",
       "      <td>...</td>\n",
       "      <td>...</td>\n",
       "      <td>...</td>\n",
       "    </tr>\n",
       "    <tr>\n",
       "      <th>100821</th>\n",
       "      <td>899991301</td>\n",
       "      <td>280.0</td>\n",
       "      <td>NaN</td>\n",
       "      <td>50.0</td>\n",
       "      <td>NaN</td>\n",
       "      <td>NaN</td>\n",
       "      <td>330.0</td>\n",
       "      <td>NaN</td>\n",
       "      <td>NaN</td>\n",
       "      <td>NaN</td>\n",
       "      <td>...</td>\n",
       "      <td>410.0</td>\n",
       "      <td>NaN</td>\n",
       "      <td>NaN</td>\n",
       "      <td>NaN</td>\n",
       "      <td>NaN</td>\n",
       "      <td>NaN</td>\n",
       "      <td>NaN</td>\n",
       "      <td>NaN</td>\n",
       "      <td>7.0</td>\n",
       "      <td>7.0</td>\n",
       "    </tr>\n",
       "    <tr>\n",
       "      <th>100822</th>\n",
       "      <td>899992101</td>\n",
       "      <td>NaN</td>\n",
       "      <td>NaN</td>\n",
       "      <td>NaN</td>\n",
       "      <td>NaN</td>\n",
       "      <td>NaN</td>\n",
       "      <td>NaN</td>\n",
       "      <td>NaN</td>\n",
       "      <td>NaN</td>\n",
       "      <td>NaN</td>\n",
       "      <td>...</td>\n",
       "      <td>1480.0</td>\n",
       "      <td>NaN</td>\n",
       "      <td>NaN</td>\n",
       "      <td>NaN</td>\n",
       "      <td>NaN</td>\n",
       "      <td>NaN</td>\n",
       "      <td>NaN</td>\n",
       "      <td>NaN</td>\n",
       "      <td>240.0</td>\n",
       "      <td>240.0</td>\n",
       "    </tr>\n",
       "    <tr>\n",
       "      <th>100823</th>\n",
       "      <td>899992201</td>\n",
       "      <td>180.0</td>\n",
       "      <td>NaN</td>\n",
       "      <td>NaN</td>\n",
       "      <td>NaN</td>\n",
       "      <td>NaN</td>\n",
       "      <td>180.0</td>\n",
       "      <td>NaN</td>\n",
       "      <td>NaN</td>\n",
       "      <td>NaN</td>\n",
       "      <td>...</td>\n",
       "      <td>230.0</td>\n",
       "      <td>NaN</td>\n",
       "      <td>NaN</td>\n",
       "      <td>NaN</td>\n",
       "      <td>NaN</td>\n",
       "      <td>NaN</td>\n",
       "      <td>NaN</td>\n",
       "      <td>NaN</td>\n",
       "      <td>7.0</td>\n",
       "      <td>7.0</td>\n",
       "    </tr>\n",
       "    <tr>\n",
       "      <th>100824</th>\n",
       "      <td>899992202</td>\n",
       "      <td>NaN</td>\n",
       "      <td>NaN</td>\n",
       "      <td>NaN</td>\n",
       "      <td>NaN</td>\n",
       "      <td>NaN</td>\n",
       "      <td>NaN</td>\n",
       "      <td>NaN</td>\n",
       "      <td>NaN</td>\n",
       "      <td>NaN</td>\n",
       "      <td>...</td>\n",
       "      <td>280.0</td>\n",
       "      <td>NaN</td>\n",
       "      <td>NaN</td>\n",
       "      <td>NaN</td>\n",
       "      <td>NaN</td>\n",
       "      <td>NaN</td>\n",
       "      <td>NaN</td>\n",
       "      <td>NaN</td>\n",
       "      <td>4.0</td>\n",
       "      <td>4.0</td>\n",
       "    </tr>\n",
       "    <tr>\n",
       "      <th>100825</th>\n",
       "      <td>899992301</td>\n",
       "      <td>NaN</td>\n",
       "      <td>NaN</td>\n",
       "      <td>NaN</td>\n",
       "      <td>NaN</td>\n",
       "      <td>NaN</td>\n",
       "      <td>NaN</td>\n",
       "      <td>NaN</td>\n",
       "      <td>NaN</td>\n",
       "      <td>NaN</td>\n",
       "      <td>...</td>\n",
       "      <td>220.0</td>\n",
       "      <td>NaN</td>\n",
       "      <td>NaN</td>\n",
       "      <td>NaN</td>\n",
       "      <td>NaN</td>\n",
       "      <td>NaN</td>\n",
       "      <td>NaN</td>\n",
       "      <td>NaN</td>\n",
       "      <td>6.0</td>\n",
       "      <td>6.0</td>\n",
       "    </tr>\n",
       "  </tbody>\n",
       "</table>\n",
       "<p>100826 rows × 87 columns</p>\n",
       "</div>"
      ],
      "text/plain": [
       "item_code      hh_id    420  421   422   423  424    429   430  431    432  \\\n",
       "0               1101    NaN  NaN   NaN   NaN  NaN    NaN   NaN  NaN    NaN   \n",
       "1               1102    NaN  NaN   NaN   NaN  NaN    NaN   NaN  NaN    NaN   \n",
       "2               1103    NaN  NaN   NaN   NaN  NaN    NaN  30.0  NaN    NaN   \n",
       "3               1104    NaN  NaN   NaN  10.0  NaN   10.0   NaN  NaN  150.0   \n",
       "4               1201   25.0  NaN   NaN   NaN  NaN   25.0   NaN  NaN    NaN   \n",
       "...              ...    ...  ...   ...   ...  ...    ...   ...  ...    ...   \n",
       "100821     899991301  280.0  NaN  50.0   NaN  NaN  330.0   NaN  NaN    NaN   \n",
       "100822     899992101    NaN  NaN   NaN   NaN  NaN    NaN   NaN  NaN    NaN   \n",
       "100823     899992201  180.0  NaN   NaN   NaN  NaN  180.0   NaN  NaN    NaN   \n",
       "100824     899992202    NaN  NaN   NaN   NaN  NaN    NaN   NaN  NaN    NaN   \n",
       "100825     899992301    NaN  NaN   NaN   NaN  NaN    NaN   NaN  NaN    NaN   \n",
       "\n",
       "item_code  ...     519    520  521  522  523    529     539   540    541  \\\n",
       "0          ...   485.0    NaN  NaN  3.0  NaN    3.0  4000.0  75.0   11.0   \n",
       "1          ...    60.0  500.0  NaN  NaN  NaN  500.0   500.0   NaN    NaN   \n",
       "2          ...    30.0  500.0  NaN  NaN  NaN  500.0   500.0   NaN    NaN   \n",
       "3          ...  1050.0    NaN  NaN  3.0  NaN    3.0  4500.0  75.0   11.0   \n",
       "4          ...   835.0    NaN  NaN  3.0  NaN    3.0  5000.0  75.0   11.0   \n",
       "...        ...     ...    ...  ...  ...  ...    ...     ...   ...    ...   \n",
       "100821     ...   410.0    NaN  NaN  NaN  NaN    NaN     NaN   NaN    7.0   \n",
       "100822     ...  1480.0    NaN  NaN  NaN  NaN    NaN     NaN   NaN  240.0   \n",
       "100823     ...   230.0    NaN  NaN  NaN  NaN    NaN     NaN   NaN    7.0   \n",
       "100824     ...   280.0    NaN  NaN  NaN  NaN    NaN     NaN   NaN    4.0   \n",
       "100825     ...   220.0    NaN  NaN  NaN  NaN    NaN     NaN   NaN    6.0   \n",
       "\n",
       "item_code    549  \n",
       "0           86.0  \n",
       "1            NaN  \n",
       "2            NaN  \n",
       "3           86.0  \n",
       "4           86.0  \n",
       "...          ...  \n",
       "100821       7.0  \n",
       "100822     240.0  \n",
       "100823       7.0  \n",
       "100824       4.0  \n",
       "100825       6.0  \n",
       "\n",
       "[100826 rows x 87 columns]"
      ]
     },
     "execution_count": 53,
     "metadata": {},
     "output_type": "execute_result"
    }
   ],
   "source": [
    "# convert from wide to long format\n",
    "df_4_wide=df_4.pivot(index='hh_id', columns='item_code', values='value').reset_index()\n",
    "df_4_wide"
   ]
  },
  {
   "cell_type": "code",
   "execution_count": 54,
   "metadata": {},
   "outputs": [
    {
     "data": {
      "text/html": [
       "<div>\n",
       "<style scoped>\n",
       "    .dataframe tbody tr th:only-of-type {\n",
       "        vertical-align: middle;\n",
       "    }\n",
       "\n",
       "    .dataframe tbody tr th {\n",
       "        vertical-align: top;\n",
       "    }\n",
       "\n",
       "    .dataframe thead th {\n",
       "        text-align: right;\n",
       "    }\n",
       "</style>\n",
       "<table border=\"1\" class=\"dataframe\">\n",
       "  <thead>\n",
       "    <tr style=\"text-align: right;\">\n",
       "      <th></th>\n",
       "      <th>hh_id</th>\n",
       "      <th>air</th>\n",
       "      <th>rail</th>\n",
       "      <th>bus</th>\n",
       "      <th>taxi</th>\n",
       "      <th>steamer</th>\n",
       "      <th>rickshaw</th>\n",
       "      <th>petrol</th>\n",
       "      <th>diesel</th>\n",
       "      <th>lubrication</th>\n",
       "      <th>school_bus</th>\n",
       "      <th>conveyance_subtotal</th>\n",
       "    </tr>\n",
       "  </thead>\n",
       "  <tbody>\n",
       "    <tr>\n",
       "      <th>0</th>\n",
       "      <td>1101</td>\n",
       "      <td>NaN</td>\n",
       "      <td>NaN</td>\n",
       "      <td>NaN</td>\n",
       "      <td>20.0</td>\n",
       "      <td>NaN</td>\n",
       "      <td>15.0</td>\n",
       "      <td>400.0</td>\n",
       "      <td>NaN</td>\n",
       "      <td>50.0</td>\n",
       "      <td>NaN</td>\n",
       "      <td>485.0</td>\n",
       "    </tr>\n",
       "    <tr>\n",
       "      <th>1</th>\n",
       "      <td>1102</td>\n",
       "      <td>NaN</td>\n",
       "      <td>NaN</td>\n",
       "      <td>60.0</td>\n",
       "      <td>NaN</td>\n",
       "      <td>NaN</td>\n",
       "      <td>NaN</td>\n",
       "      <td>NaN</td>\n",
       "      <td>NaN</td>\n",
       "      <td>NaN</td>\n",
       "      <td>NaN</td>\n",
       "      <td>60.0</td>\n",
       "    </tr>\n",
       "    <tr>\n",
       "      <th>2</th>\n",
       "      <td>1103</td>\n",
       "      <td>NaN</td>\n",
       "      <td>NaN</td>\n",
       "      <td>NaN</td>\n",
       "      <td>30.0</td>\n",
       "      <td>NaN</td>\n",
       "      <td>NaN</td>\n",
       "      <td>NaN</td>\n",
       "      <td>NaN</td>\n",
       "      <td>NaN</td>\n",
       "      <td>NaN</td>\n",
       "      <td>30.0</td>\n",
       "    </tr>\n",
       "    <tr>\n",
       "      <th>3</th>\n",
       "      <td>1104</td>\n",
       "      <td>NaN</td>\n",
       "      <td>NaN</td>\n",
       "      <td>NaN</td>\n",
       "      <td>NaN</td>\n",
       "      <td>NaN</td>\n",
       "      <td>NaN</td>\n",
       "      <td>400.0</td>\n",
       "      <td>NaN</td>\n",
       "      <td>50.0</td>\n",
       "      <td>600.0</td>\n",
       "      <td>1050.0</td>\n",
       "    </tr>\n",
       "    <tr>\n",
       "      <th>4</th>\n",
       "      <td>1201</td>\n",
       "      <td>NaN</td>\n",
       "      <td>NaN</td>\n",
       "      <td>40.0</td>\n",
       "      <td>30.0</td>\n",
       "      <td>NaN</td>\n",
       "      <td>15.0</td>\n",
       "      <td>300.0</td>\n",
       "      <td>NaN</td>\n",
       "      <td>30.0</td>\n",
       "      <td>400.0</td>\n",
       "      <td>835.0</td>\n",
       "    </tr>\n",
       "  </tbody>\n",
       "</table>\n",
       "</div>"
      ],
      "text/plain": [
       "   hh_id  air  rail   bus  taxi  steamer  rickshaw  petrol  diesel  \\\n",
       "0   1101  NaN   NaN   NaN  20.0      NaN      15.0   400.0     NaN   \n",
       "1   1102  NaN   NaN  60.0   NaN      NaN       NaN     NaN     NaN   \n",
       "2   1103  NaN   NaN   NaN  30.0      NaN       NaN     NaN     NaN   \n",
       "3   1104  NaN   NaN   NaN   NaN      NaN       NaN   400.0     NaN   \n",
       "4   1201  NaN   NaN  40.0  30.0      NaN      15.0   300.0     NaN   \n",
       "\n",
       "   lubrication  school_bus  conveyance_subtotal  \n",
       "0         50.0         NaN                485.0  \n",
       "1          NaN         NaN                 60.0  \n",
       "2          NaN         NaN                 30.0  \n",
       "3         50.0       600.0               1050.0  \n",
       "4         30.0       400.0                835.0  "
      ]
     },
     "execution_count": 54,
     "metadata": {},
     "output_type": "execute_result"
    }
   ],
   "source": [
    "# subset required columns\n",
    "df_4_wide_subset=df_4_wide[['hh_id',500,501,502,503,504,505,508,510,511,512,519]]\n",
    "df_4_wide_subset.columns=['hh_id','air','rail','bus','taxi','steamer',\n",
    "                          'rickshaw','petrol','diesel','lubrication','school_bus','conveyance_subtotal']\n",
    "df_4_wide_subset.head()"
   ]
  },
  {
   "cell_type": "code",
   "execution_count": 55,
   "metadata": {},
   "outputs": [
    {
     "name": "stderr",
     "output_type": "stream",
     "text": [
      "C:\\Users\\Sushmitha\\anaconda3\\lib\\site-packages\\pandas\\core\\frame.py:4317: SettingWithCopyWarning: \n",
      "A value is trying to be set on a copy of a slice from a DataFrame\n",
      "\n",
      "See the caveats in the documentation: https://pandas.pydata.org/pandas-docs/stable/user_guide/indexing.html#returning-a-view-versus-a-copy\n",
      "  return super().fillna(\n"
     ]
    },
    {
     "data": {
      "text/html": [
       "<div>\n",
       "<style scoped>\n",
       "    .dataframe tbody tr th:only-of-type {\n",
       "        vertical-align: middle;\n",
       "    }\n",
       "\n",
       "    .dataframe tbody tr th {\n",
       "        vertical-align: top;\n",
       "    }\n",
       "\n",
       "    .dataframe thead th {\n",
       "        text-align: right;\n",
       "    }\n",
       "</style>\n",
       "<table border=\"1\" class=\"dataframe\">\n",
       "  <thead>\n",
       "    <tr style=\"text-align: right;\">\n",
       "      <th></th>\n",
       "      <th>hh_id</th>\n",
       "      <th>air</th>\n",
       "      <th>rail</th>\n",
       "      <th>bus</th>\n",
       "      <th>taxi</th>\n",
       "      <th>steamer</th>\n",
       "      <th>rickshaw</th>\n",
       "      <th>petrol</th>\n",
       "      <th>diesel</th>\n",
       "      <th>lubrication</th>\n",
       "      <th>school_bus</th>\n",
       "      <th>conveyance_subtotal</th>\n",
       "    </tr>\n",
       "  </thead>\n",
       "  <tbody>\n",
       "    <tr>\n",
       "      <th>0</th>\n",
       "      <td>1101</td>\n",
       "      <td>0.0</td>\n",
       "      <td>0.0</td>\n",
       "      <td>0.0</td>\n",
       "      <td>20.0</td>\n",
       "      <td>0.0</td>\n",
       "      <td>15.0</td>\n",
       "      <td>400.0</td>\n",
       "      <td>0.0</td>\n",
       "      <td>50.0</td>\n",
       "      <td>0.0</td>\n",
       "      <td>485.0</td>\n",
       "    </tr>\n",
       "    <tr>\n",
       "      <th>1</th>\n",
       "      <td>1102</td>\n",
       "      <td>0.0</td>\n",
       "      <td>0.0</td>\n",
       "      <td>60.0</td>\n",
       "      <td>0.0</td>\n",
       "      <td>0.0</td>\n",
       "      <td>0.0</td>\n",
       "      <td>0.0</td>\n",
       "      <td>0.0</td>\n",
       "      <td>0.0</td>\n",
       "      <td>0.0</td>\n",
       "      <td>60.0</td>\n",
       "    </tr>\n",
       "    <tr>\n",
       "      <th>2</th>\n",
       "      <td>1103</td>\n",
       "      <td>0.0</td>\n",
       "      <td>0.0</td>\n",
       "      <td>0.0</td>\n",
       "      <td>30.0</td>\n",
       "      <td>0.0</td>\n",
       "      <td>0.0</td>\n",
       "      <td>0.0</td>\n",
       "      <td>0.0</td>\n",
       "      <td>0.0</td>\n",
       "      <td>0.0</td>\n",
       "      <td>30.0</td>\n",
       "    </tr>\n",
       "    <tr>\n",
       "      <th>3</th>\n",
       "      <td>1104</td>\n",
       "      <td>0.0</td>\n",
       "      <td>0.0</td>\n",
       "      <td>0.0</td>\n",
       "      <td>0.0</td>\n",
       "      <td>0.0</td>\n",
       "      <td>0.0</td>\n",
       "      <td>400.0</td>\n",
       "      <td>0.0</td>\n",
       "      <td>50.0</td>\n",
       "      <td>600.0</td>\n",
       "      <td>1050.0</td>\n",
       "    </tr>\n",
       "    <tr>\n",
       "      <th>4</th>\n",
       "      <td>1201</td>\n",
       "      <td>0.0</td>\n",
       "      <td>0.0</td>\n",
       "      <td>40.0</td>\n",
       "      <td>30.0</td>\n",
       "      <td>0.0</td>\n",
       "      <td>15.0</td>\n",
       "      <td>300.0</td>\n",
       "      <td>0.0</td>\n",
       "      <td>30.0</td>\n",
       "      <td>400.0</td>\n",
       "      <td>835.0</td>\n",
       "    </tr>\n",
       "  </tbody>\n",
       "</table>\n",
       "</div>"
      ],
      "text/plain": [
       "   hh_id  air  rail   bus  taxi  steamer  rickshaw  petrol  diesel  \\\n",
       "0   1101  0.0   0.0   0.0  20.0      0.0      15.0   400.0     0.0   \n",
       "1   1102  0.0   0.0  60.0   0.0      0.0       0.0     0.0     0.0   \n",
       "2   1103  0.0   0.0   0.0  30.0      0.0       0.0     0.0     0.0   \n",
       "3   1104  0.0   0.0   0.0   0.0      0.0       0.0   400.0     0.0   \n",
       "4   1201  0.0   0.0  40.0  30.0      0.0      15.0   300.0     0.0   \n",
       "\n",
       "   lubrication  school_bus  conveyance_subtotal  \n",
       "0         50.0         0.0                485.0  \n",
       "1          0.0         0.0                 60.0  \n",
       "2          0.0         0.0                 30.0  \n",
       "3         50.0       600.0               1050.0  \n",
       "4         30.0       400.0                835.0  "
      ]
     },
     "execution_count": 55,
     "metadata": {},
     "output_type": "execute_result"
    }
   ],
   "source": [
    "#replace na with 0\n",
    "df_4_wide_subset.fillna(0, inplace=True)\n",
    "df_4_wide_subset.head()"
   ]
  },
  {
   "cell_type": "code",
   "execution_count": 56,
   "metadata": {},
   "outputs": [
    {
     "name": "stdout",
     "output_type": "stream",
     "text": [
      "<class 'pandas.core.frame.DataFrame'>\n",
      "RangeIndex: 100826 entries, 0 to 100825\n",
      "Data columns (total 12 columns):\n",
      " #   Column               Non-Null Count   Dtype  \n",
      "---  ------               --------------   -----  \n",
      " 0   hh_id                100826 non-null  int64  \n",
      " 1   air                  100826 non-null  float64\n",
      " 2   rail                 100826 non-null  float64\n",
      " 3   bus                  100826 non-null  float64\n",
      " 4   taxi                 100826 non-null  float64\n",
      " 5   steamer              100826 non-null  float64\n",
      " 6   rickshaw             100826 non-null  float64\n",
      " 7   petrol               100826 non-null  float64\n",
      " 8   diesel               100826 non-null  float64\n",
      " 9   lubrication          100826 non-null  float64\n",
      " 10  school_bus           100826 non-null  float64\n",
      " 11  conveyance_subtotal  100826 non-null  float64\n",
      "dtypes: float64(11), int64(1)\n",
      "memory usage: 9.2 MB\n"
     ]
    }
   ],
   "source": [
    "#info\n",
    "df_4_wide_subset.info()"
   ]
  },
  {
   "cell_type": "code",
   "execution_count": 60,
   "metadata": {},
   "outputs": [
    {
     "data": {
      "text/html": [
       "<div>\n",
       "<style scoped>\n",
       "    .dataframe tbody tr th:only-of-type {\n",
       "        vertical-align: middle;\n",
       "    }\n",
       "\n",
       "    .dataframe tbody tr th {\n",
       "        vertical-align: top;\n",
       "    }\n",
       "\n",
       "    .dataframe thead th {\n",
       "        text-align: right;\n",
       "    }\n",
       "</style>\n",
       "<table border=\"1\" class=\"dataframe\">\n",
       "  <thead>\n",
       "    <tr style=\"text-align: right;\">\n",
       "      <th></th>\n",
       "      <th>hh_id</th>\n",
       "      <th>air</th>\n",
       "      <th>rail</th>\n",
       "      <th>bus</th>\n",
       "      <th>taxi</th>\n",
       "      <th>steamer</th>\n",
       "      <th>rickshaw</th>\n",
       "      <th>petrol</th>\n",
       "      <th>diesel</th>\n",
       "      <th>lubrication</th>\n",
       "      <th>school_bus</th>\n",
       "      <th>conveyance_subtotal</th>\n",
       "    </tr>\n",
       "  </thead>\n",
       "  <tbody>\n",
       "    <tr>\n",
       "      <th>count</th>\n",
       "      <td>1.008260e+05</td>\n",
       "      <td>100826.000000</td>\n",
       "      <td>100826.000000</td>\n",
       "      <td>100826.000000</td>\n",
       "      <td>100826.000000</td>\n",
       "      <td>100826.000000</td>\n",
       "      <td>100826.000000</td>\n",
       "      <td>100826.000000</td>\n",
       "      <td>100826.000000</td>\n",
       "      <td>100826.000000</td>\n",
       "      <td>100826.000000</td>\n",
       "      <td>100826.000000</td>\n",
       "    </tr>\n",
       "    <tr>\n",
       "      <th>mean</th>\n",
       "      <td>5.142423e+08</td>\n",
       "      <td>5.012864</td>\n",
       "      <td>10.354512</td>\n",
       "      <td>88.180896</td>\n",
       "      <td>35.516494</td>\n",
       "      <td>0.663281</td>\n",
       "      <td>4.146639</td>\n",
       "      <td>158.930901</td>\n",
       "      <td>11.781554</td>\n",
       "      <td>5.472219</td>\n",
       "      <td>17.638288</td>\n",
       "      <td>342.960556</td>\n",
       "    </tr>\n",
       "    <tr>\n",
       "      <th>std</th>\n",
       "      <td>3.982306e+08</td>\n",
       "      <td>430.200516</td>\n",
       "      <td>120.269953</td>\n",
       "      <td>193.440761</td>\n",
       "      <td>148.501662</td>\n",
       "      <td>27.027410</td>\n",
       "      <td>22.472833</td>\n",
       "      <td>412.728418</td>\n",
       "      <td>164.378884</td>\n",
       "      <td>43.537526</td>\n",
       "      <td>141.709936</td>\n",
       "      <td>788.624556</td>\n",
       "    </tr>\n",
       "    <tr>\n",
       "      <th>min</th>\n",
       "      <td>1.101000e+03</td>\n",
       "      <td>0.000000</td>\n",
       "      <td>0.000000</td>\n",
       "      <td>0.000000</td>\n",
       "      <td>0.000000</td>\n",
       "      <td>0.000000</td>\n",
       "      <td>0.000000</td>\n",
       "      <td>0.000000</td>\n",
       "      <td>0.000000</td>\n",
       "      <td>0.000000</td>\n",
       "      <td>0.000000</td>\n",
       "      <td>0.000000</td>\n",
       "    </tr>\n",
       "    <tr>\n",
       "      <th>25%</th>\n",
       "      <td>4.552111e+07</td>\n",
       "      <td>0.000000</td>\n",
       "      <td>0.000000</td>\n",
       "      <td>0.000000</td>\n",
       "      <td>0.000000</td>\n",
       "      <td>0.000000</td>\n",
       "      <td>0.000000</td>\n",
       "      <td>0.000000</td>\n",
       "      <td>0.000000</td>\n",
       "      <td>0.000000</td>\n",
       "      <td>0.000000</td>\n",
       "      <td>40.000000</td>\n",
       "    </tr>\n",
       "    <tr>\n",
       "      <th>50%</th>\n",
       "      <td>8.123267e+08</td>\n",
       "      <td>0.000000</td>\n",
       "      <td>0.000000</td>\n",
       "      <td>30.000000</td>\n",
       "      <td>0.000000</td>\n",
       "      <td>0.000000</td>\n",
       "      <td>0.000000</td>\n",
       "      <td>0.000000</td>\n",
       "      <td>0.000000</td>\n",
       "      <td>0.000000</td>\n",
       "      <td>0.000000</td>\n",
       "      <td>140.000000</td>\n",
       "    </tr>\n",
       "    <tr>\n",
       "      <th>75%</th>\n",
       "      <td>8.494413e+08</td>\n",
       "      <td>0.000000</td>\n",
       "      <td>0.000000</td>\n",
       "      <td>100.000000</td>\n",
       "      <td>30.000000</td>\n",
       "      <td>0.000000</td>\n",
       "      <td>0.000000</td>\n",
       "      <td>150.000000</td>\n",
       "      <td>0.000000</td>\n",
       "      <td>0.000000</td>\n",
       "      <td>0.000000</td>\n",
       "      <td>400.000000</td>\n",
       "    </tr>\n",
       "    <tr>\n",
       "      <th>max</th>\n",
       "      <td>8.999923e+08</td>\n",
       "      <td>80000.000000</td>\n",
       "      <td>11700.000000</td>\n",
       "      <td>15000.000000</td>\n",
       "      <td>15000.000000</td>\n",
       "      <td>4800.000000</td>\n",
       "      <td>1550.000000</td>\n",
       "      <td>30000.000000</td>\n",
       "      <td>17535.000000</td>\n",
       "      <td>4800.000000</td>\n",
       "      <td>12000.000000</td>\n",
       "      <td>90500.000000</td>\n",
       "    </tr>\n",
       "  </tbody>\n",
       "</table>\n",
       "</div>"
      ],
      "text/plain": [
       "              hh_id            air           rail            bus  \\\n",
       "count  1.008260e+05  100826.000000  100826.000000  100826.000000   \n",
       "mean   5.142423e+08       5.012864      10.354512      88.180896   \n",
       "std    3.982306e+08     430.200516     120.269953     193.440761   \n",
       "min    1.101000e+03       0.000000       0.000000       0.000000   \n",
       "25%    4.552111e+07       0.000000       0.000000       0.000000   \n",
       "50%    8.123267e+08       0.000000       0.000000      30.000000   \n",
       "75%    8.494413e+08       0.000000       0.000000     100.000000   \n",
       "max    8.999923e+08   80000.000000   11700.000000   15000.000000   \n",
       "\n",
       "                taxi        steamer       rickshaw         petrol  \\\n",
       "count  100826.000000  100826.000000  100826.000000  100826.000000   \n",
       "mean       35.516494       0.663281       4.146639     158.930901   \n",
       "std       148.501662      27.027410      22.472833     412.728418   \n",
       "min         0.000000       0.000000       0.000000       0.000000   \n",
       "25%         0.000000       0.000000       0.000000       0.000000   \n",
       "50%         0.000000       0.000000       0.000000       0.000000   \n",
       "75%        30.000000       0.000000       0.000000     150.000000   \n",
       "max     15000.000000    4800.000000    1550.000000   30000.000000   \n",
       "\n",
       "              diesel    lubrication     school_bus  conveyance_subtotal  \n",
       "count  100826.000000  100826.000000  100826.000000        100826.000000  \n",
       "mean       11.781554       5.472219      17.638288           342.960556  \n",
       "std       164.378884      43.537526     141.709936           788.624556  \n",
       "min         0.000000       0.000000       0.000000             0.000000  \n",
       "25%         0.000000       0.000000       0.000000            40.000000  \n",
       "50%         0.000000       0.000000       0.000000           140.000000  \n",
       "75%         0.000000       0.000000       0.000000           400.000000  \n",
       "max     17535.000000    4800.000000   12000.000000         90500.000000  "
      ]
     },
     "execution_count": 60,
     "metadata": {},
     "output_type": "execute_result"
    }
   ],
   "source": [
    "df_4_wide_subset.describe()"
   ]
  },
  {
   "cell_type": "code",
   "execution_count": 70,
   "metadata": {},
   "outputs": [
    {
     "data": {
      "image/png": "[encoded data removed]",
      "text/plain": [
       "<Figure size 504x504 with 6 Axes>"
      ]
     },
     "metadata": {
      "needs_background": "light"
     },
     "output_type": "display_data"
    }
   ],
   "source": [
    "# plotting histograms for expenditure on each item\n",
    "fig, axs = plt.subplots(2, 3, figsize=(7,7))\n",
    "\n",
    "sns.histplot(data=df_4_wide_subset, x=\"air\", ax=axs[0, 0])\n",
    "sns.histplot(data=df_4_wide_subset, x=\"rail\", ax=axs[0, 1])\n",
    "sns.histplot(data=df_4_wide_subset, x=\"taxi\", ax=axs[0, 2])\n",
    "sns.histplot(data=df_4_wide_subset, x=\"steamer\", ax=axs[1, 0])\n",
    "sns.histplot(data=df_4_wide_subset, x=\"rickshaw\", ax=axs[1, 1]);\n",
    "\n",
    "plt.subplots_adjust(left=0.1,\n",
    "                    bottom=0.1, \n",
    "                    right=0.9, \n",
    "                    top=0.9, \n",
    "                    wspace=0.4, \n",
    "                    hspace=0.4)"
   ]
  },
  {
   "cell_type": "code",
   "execution_count": 71,
   "metadata": {},
   "outputs": [
    {
     "data": {
      "image/png": "[encoded data removed]",
      "text/plain": [
       "<Figure size 504x504 with 6 Axes>"
      ]
     },
     "metadata": {
      "needs_background": "light"
     },
     "output_type": "display_data"
    }
   ],
   "source": [
    "# plotting histograms for expenditure on each item\n",
    "fig, axs = plt.subplots(2, 3, figsize=(7, 7))\n",
    "\n",
    "sns.histplot(data=df_4_wide_subset, x=\"petrol\", ax=axs[0, 0])\n",
    "sns.histplot(data=df_4_wide_subset, x=\"diesel\", ax=axs[0, 1])\n",
    "sns.histplot(data=df_4_wide_subset, x=\"lubrication\", ax=axs[0, 2])\n",
    "sns.histplot(data=df_4_wide_subset, x=\"school_bus\", ax=axs[1, 0])\n",
    "sns.histplot(data=df_4_wide_subset, x=\"conveyance_subtotal\", ax=axs[1, 1])\n",
    "\n",
    "\n",
    "plt.subplots_adjust(left=0.1,\n",
    "                    bottom=0.1, \n",
    "                    right=0.9, \n",
    "                    top=0.9, \n",
    "                    wspace=0.4, \n",
    "                    hspace=0.4);"
   ]
  },
  {
   "cell_type": "code",
   "execution_count": 57,
   "metadata": {},
   "outputs": [],
   "source": [
    "df_4_wide_subset.to_csv('ExpenditureOnMiscelleneousGoods-Wide.csv', index=False)"
   ]
  },
  {
   "cell_type": "markdown",
   "metadata": {},
   "source": [
    "#### Data Understanding\n",
    "\n",
    "- Not all households are present in this data\n",
    "- Expenditures are skewed to the left. Have to plot on log scale for better understanding"
   ]
  },
  {
   "cell_type": "markdown",
   "metadata": {},
   "source": [
    "### Expenditure For Purchase And Construction"
   ]
  },
  {
   "cell_type": "code",
   "execution_count": 72,
   "metadata": {},
   "outputs": [
    {
     "data": {
      "text/html": [
       "<div>\n",
       "<style scoped>\n",
       "    .dataframe tbody tr th:only-of-type {\n",
       "        vertical-align: middle;\n",
       "    }\n",
       "\n",
       "    .dataframe tbody tr th {\n",
       "        vertical-align: top;\n",
       "    }\n",
       "\n",
       "    .dataframe thead th {\n",
       "        text-align: right;\n",
       "    }\n",
       "</style>\n",
       "<table border=\"1\" class=\"dataframe\">\n",
       "  <thead>\n",
       "    <tr style=\"text-align: right;\">\n",
       "      <th></th>\n",
       "      <th>hh_id</th>\n",
       "      <th>item_code</th>\n",
       "      <th>whether_possess</th>\n",
       "      <th>first_hand_purchase_no_30days</th>\n",
       "      <th>whether_hire_purchased_30days</th>\n",
       "      <th>first_hand_purchase_value_30days</th>\n",
       "      <th>cost_raw_material_repair_30days</th>\n",
       "      <th>sec_hand_purchase_value_30days</th>\n",
       "      <th>total_expenditure_30days</th>\n",
       "      <th>first_hand_purchase_no_365days</th>\n",
       "      <th>whether_hire_purchased_365days</th>\n",
       "      <th>first_hand_purchase_value_365days</th>\n",
       "      <th>cost_raw_material_repair_365days</th>\n",
       "      <th>sec_hand_purchase_no_365days</th>\n",
       "      <th>sec_hand_purchase_value_365days</th>\n",
       "      <th>total_expenditure_365days</th>\n",
       "    </tr>\n",
       "  </thead>\n",
       "  <tbody>\n",
       "    <tr>\n",
       "      <th>0</th>\n",
       "      <td>1101</td>\n",
       "      <td>550</td>\n",
       "      <td>1.0</td>\n",
       "      <td>NaN</td>\n",
       "      <td>NaN</td>\n",
       "      <td>NaN</td>\n",
       "      <td>NaN</td>\n",
       "      <td>NaN</td>\n",
       "      <td>NaN</td>\n",
       "      <td>NaN</td>\n",
       "      <td>NaN</td>\n",
       "      <td>NaN</td>\n",
       "      <td>NaN</td>\n",
       "      <td>NaN</td>\n",
       "      <td>NaN</td>\n",
       "      <td>NaN</td>\n",
       "    </tr>\n",
       "    <tr>\n",
       "      <th>1</th>\n",
       "      <td>1101</td>\n",
       "      <td>551</td>\n",
       "      <td>1.0</td>\n",
       "      <td>NaN</td>\n",
       "      <td>NaN</td>\n",
       "      <td>NaN</td>\n",
       "      <td>NaN</td>\n",
       "      <td>NaN</td>\n",
       "      <td>NaN</td>\n",
       "      <td>NaN</td>\n",
       "      <td>NaN</td>\n",
       "      <td>NaN</td>\n",
       "      <td>NaN</td>\n",
       "      <td>NaN</td>\n",
       "      <td>NaN</td>\n",
       "      <td>NaN</td>\n",
       "    </tr>\n",
       "    <tr>\n",
       "      <th>2</th>\n",
       "      <td>1101</td>\n",
       "      <td>552</td>\n",
       "      <td>1.0</td>\n",
       "      <td>NaN</td>\n",
       "      <td>NaN</td>\n",
       "      <td>NaN</td>\n",
       "      <td>NaN</td>\n",
       "      <td>NaN</td>\n",
       "      <td>NaN</td>\n",
       "      <td>NaN</td>\n",
       "      <td>NaN</td>\n",
       "      <td>NaN</td>\n",
       "      <td>NaN</td>\n",
       "      <td>NaN</td>\n",
       "      <td>NaN</td>\n",
       "      <td>NaN</td>\n",
       "    </tr>\n",
       "    <tr>\n",
       "      <th>3</th>\n",
       "      <td>1101</td>\n",
       "      <td>560</td>\n",
       "      <td>1.0</td>\n",
       "      <td>NaN</td>\n",
       "      <td>NaN</td>\n",
       "      <td>NaN</td>\n",
       "      <td>NaN</td>\n",
       "      <td>NaN</td>\n",
       "      <td>NaN</td>\n",
       "      <td>NaN</td>\n",
       "      <td>NaN</td>\n",
       "      <td>NaN</td>\n",
       "      <td>NaN</td>\n",
       "      <td>NaN</td>\n",
       "      <td>NaN</td>\n",
       "      <td>NaN</td>\n",
       "    </tr>\n",
       "    <tr>\n",
       "      <th>4</th>\n",
       "      <td>1101</td>\n",
       "      <td>561</td>\n",
       "      <td>1.0</td>\n",
       "      <td>NaN</td>\n",
       "      <td>NaN</td>\n",
       "      <td>NaN</td>\n",
       "      <td>NaN</td>\n",
       "      <td>NaN</td>\n",
       "      <td>NaN</td>\n",
       "      <td>NaN</td>\n",
       "      <td>NaN</td>\n",
       "      <td>NaN</td>\n",
       "      <td>NaN</td>\n",
       "      <td>NaN</td>\n",
       "      <td>NaN</td>\n",
       "      <td>NaN</td>\n",
       "    </tr>\n",
       "  </tbody>\n",
       "</table>\n",
       "</div>"
      ],
      "text/plain": [
       "   hh_id  item_code  whether_possess  first_hand_purchase_no_30days  \\\n",
       "0   1101        550              1.0                            NaN   \n",
       "1   1101        551              1.0                            NaN   \n",
       "2   1101        552              1.0                            NaN   \n",
       "3   1101        560              1.0                            NaN   \n",
       "4   1101        561              1.0                            NaN   \n",
       "\n",
       "   whether_hire_purchased_30days  first_hand_purchase_value_30days  \\\n",
       "0                            NaN                               NaN   \n",
       "1                            NaN                               NaN   \n",
       "2                            NaN                               NaN   \n",
       "3                            NaN                               NaN   \n",
       "4                            NaN                               NaN   \n",
       "\n",
       "   cost_raw_material_repair_30days  sec_hand_purchase_value_30days  \\\n",
       "0                              NaN                             NaN   \n",
       "1                              NaN                             NaN   \n",
       "2                              NaN                             NaN   \n",
       "3                              NaN                             NaN   \n",
       "4                              NaN                             NaN   \n",
       "\n",
       "   total_expenditure_30days  first_hand_purchase_no_365days  \\\n",
       "0                       NaN                             NaN   \n",
       "1                       NaN                             NaN   \n",
       "2                       NaN                             NaN   \n",
       "3                       NaN                             NaN   \n",
       "4                       NaN                             NaN   \n",
       "\n",
       "   whether_hire_purchased_365days  first_hand_purchase_value_365days  \\\n",
       "0                             NaN                                NaN   \n",
       "1                             NaN                                NaN   \n",
       "2                             NaN                                NaN   \n",
       "3                             NaN                                NaN   \n",
       "4                             NaN                                NaN   \n",
       "\n",
       "   cost_raw_material_repair_365days  sec_hand_purchase_no_365days  \\\n",
       "0                               NaN                           NaN   \n",
       "1                               NaN                           NaN   \n",
       "2                               NaN                           NaN   \n",
       "3                               NaN                           NaN   \n",
       "4                               NaN                           NaN   \n",
       "\n",
       "   sec_hand_purchase_value_365days  total_expenditure_365days  \n",
       "0                              NaN                        NaN  \n",
       "1                              NaN                        NaN  \n",
       "2                              NaN                        NaN  \n",
       "3                              NaN                        NaN  \n",
       "4                              NaN                        NaN  "
      ]
     },
     "execution_count": 72,
     "metadata": {},
     "output_type": "execute_result"
    }
   ],
   "source": [
    "#read data\n",
    "df_5=pd.read_csv('ExpenditureForPurchaseAndConstruction.csv')\n",
    "df_5.head()"
   ]
  },
  {
   "cell_type": "code",
   "execution_count": 74,
   "metadata": {},
   "outputs": [
    {
     "name": "stdout",
     "output_type": "stream",
     "text": [
      "<class 'pandas.core.frame.DataFrame'>\n",
      "RangeIndex: 3070178 entries, 0 to 3070177\n",
      "Data columns (total 16 columns):\n",
      " #   Column                             Dtype  \n",
      "---  ------                             -----  \n",
      " 0   hh_id                              int64  \n",
      " 1   item_code                          int64  \n",
      " 2   whether_possess                    float64\n",
      " 3   first_hand_purchase_no_30days      float64\n",
      " 4   whether_hire_purchased_30days      float64\n",
      " 5   first_hand_purchase_value_30days   float64\n",
      " 6   cost_raw_material_repair_30days    float64\n",
      " 7   sec_hand_purchase_value_30days     float64\n",
      " 8   total_expenditure_30days           float64\n",
      " 9   first_hand_purchase_no_365days     float64\n",
      " 10  whether_hire_purchased_365days     float64\n",
      " 11  first_hand_purchase_value_365days  float64\n",
      " 12  cost_raw_material_repair_365days   float64\n",
      " 13  sec_hand_purchase_no_365days       float64\n",
      " 14  sec_hand_purchase_value_365days    float64\n",
      " 15  total_expenditure_365days          float64\n",
      "dtypes: float64(14), int64(2)\n",
      "memory usage: 374.8 MB\n"
     ]
    }
   ],
   "source": [
    "df_5.info()"
   ]
  },
  {
   "cell_type": "code",
   "execution_count": 75,
   "metadata": {},
   "outputs": [
    {
     "data": {
      "text/plain": [
       "hh_id                                      0\n",
       "item_code                                  0\n",
       "whether_possess                       363452\n",
       "first_hand_purchase_no_30days        3064768\n",
       "whether_hire_purchased_30days        3037361\n",
       "first_hand_purchase_value_30days     2912264\n",
       "cost_raw_material_repair_30days      2900914\n",
       "sec_hand_purchase_value_30days       2960066\n",
       "total_expenditure_30days             2855430\n",
       "first_hand_purchase_no_365days       3038548\n",
       "whether_hire_purchased_365days       2940990\n",
       "first_hand_purchase_value_365days    2726313\n",
       "cost_raw_material_repair_365days     2673683\n",
       "sec_hand_purchase_no_365days         3068465\n",
       "sec_hand_purchase_value_365days      2956424\n",
       "total_expenditure_365days            2464287\n",
       "dtype: int64"
      ]
     },
     "execution_count": 75,
     "metadata": {},
     "output_type": "execute_result"
    }
   ],
   "source": [
    "#finding null values\n",
    "df_5.isnull().sum()"
   ]
  },
  {
   "cell_type": "code",
   "execution_count": 76,
   "metadata": {},
   "outputs": [
    {
     "data": {
      "text/plain": [
       "array([ 1.,  2., nan,  5.,  6.,  3.,  4.,  7.,  9.,  0.])"
      ]
     },
     "execution_count": 76,
     "metadata": {},
     "output_type": "execute_result"
    }
   ],
   "source": [
    "df_5.whether_possess.unique()"
   ]
  },
  {
   "cell_type": "code",
   "execution_count": 85,
   "metadata": {},
   "outputs": [
    {
     "data": {
      "text/plain": [
       "array([nan,  2.,  1.])"
      ]
     },
     "execution_count": 85,
     "metadata": {},
     "output_type": "execute_result"
    }
   ],
   "source": [
    "df_5.whether_hire_purchased_30days.unique()"
   ]
  },
  {
   "cell_type": "code",
   "execution_count": 86,
   "metadata": {},
   "outputs": [
    {
     "data": {
      "text/plain": [
       "array([nan,  2.,  1.,  3.,  5.,  0.,  8.,  7.,  4.,  9.])"
      ]
     },
     "execution_count": 86,
     "metadata": {},
     "output_type": "execute_result"
    }
   ],
   "source": [
    "df_5.whether_hire_purchased_365days.unique()"
   ]
  },
  {
   "cell_type": "markdown",
   "metadata": {},
   "source": [
    "#### Data Understanding\n",
    "- Each row indicates expenditure for purchase and construction of different categories"
   ]
  },
  {
   "cell_type": "markdown",
   "metadata": {},
   "source": [
    "#### Data Queries\n",
    "- Whether possessed and whether_hire_purchased_365days should be boolean according to variable description. They have values from 1 to 9. Does it indicate number possessed?\n",
    "- How to interpret nan? Can take 0 for value type questions, but what about null values in boolean questions (Whether_possessed, whether_hire_purchased_30days and whether_hire_purchased_365days"
   ]
  },
  {
   "cell_type": "markdown",
   "metadata": {},
   "source": [
    "#### Data Cleaning\n",
    "- change hh_id to string datatype. Each string should have 9 characters\n",
    "- Filter only codes for transport modes and convert to long format DONE"
   ]
  },
  {
   "cell_type": "code",
   "execution_count": 87,
   "metadata": {},
   "outputs": [
    {
     "data": {
      "text/html": [
       "<div>\n",
       "<style scoped>\n",
       "    .dataframe tbody tr th:only-of-type {\n",
       "        vertical-align: middle;\n",
       "    }\n",
       "\n",
       "    .dataframe tbody tr th {\n",
       "        vertical-align: top;\n",
       "    }\n",
       "\n",
       "    .dataframe thead th {\n",
       "        text-align: right;\n",
       "    }\n",
       "</style>\n",
       "<table border=\"1\" class=\"dataframe\">\n",
       "  <thead>\n",
       "    <tr style=\"text-align: right;\">\n",
       "      <th></th>\n",
       "      <th>hh_id</th>\n",
       "      <th>item_code</th>\n",
       "      <th>whether_possess</th>\n",
       "      <th>first_hand_purchase_no_30days</th>\n",
       "      <th>whether_hire_purchased_30days</th>\n",
       "      <th>first_hand_purchase_value_30days</th>\n",
       "      <th>cost_raw_material_repair_30days</th>\n",
       "      <th>sec_hand_purchase_value_30days</th>\n",
       "      <th>total_expenditure_30days</th>\n",
       "      <th>first_hand_purchase_no_365days</th>\n",
       "      <th>whether_hire_purchased_365days</th>\n",
       "      <th>first_hand_purchase_value_365days</th>\n",
       "      <th>cost_raw_material_repair_365days</th>\n",
       "      <th>sec_hand_purchase_no_365days</th>\n",
       "      <th>sec_hand_purchase_value_365days</th>\n",
       "      <th>total_expenditure_365days</th>\n",
       "    </tr>\n",
       "  </thead>\n",
       "  <tbody>\n",
       "    <tr>\n",
       "      <th>0</th>\n",
       "      <td>1101</td>\n",
       "      <td>600</td>\n",
       "      <td>2.0</td>\n",
       "      <td>NaN</td>\n",
       "      <td>NaN</td>\n",
       "      <td>NaN</td>\n",
       "      <td>NaN</td>\n",
       "      <td>NaN</td>\n",
       "      <td>NaN</td>\n",
       "      <td>NaN</td>\n",
       "      <td>NaN</td>\n",
       "      <td>NaN</td>\n",
       "      <td>NaN</td>\n",
       "      <td>NaN</td>\n",
       "      <td>NaN</td>\n",
       "      <td>NaN</td>\n",
       "    </tr>\n",
       "    <tr>\n",
       "      <th>1</th>\n",
       "      <td>1101</td>\n",
       "      <td>601</td>\n",
       "      <td>1.0</td>\n",
       "      <td>NaN</td>\n",
       "      <td>NaN</td>\n",
       "      <td>NaN</td>\n",
       "      <td>NaN</td>\n",
       "      <td>NaN</td>\n",
       "      <td>NaN</td>\n",
       "      <td>NaN</td>\n",
       "      <td>NaN</td>\n",
       "      <td>NaN</td>\n",
       "      <td>300.0</td>\n",
       "      <td>NaN</td>\n",
       "      <td>NaN</td>\n",
       "      <td>300.0</td>\n",
       "    </tr>\n",
       "    <tr>\n",
       "      <th>2</th>\n",
       "      <td>1101</td>\n",
       "      <td>602</td>\n",
       "      <td>2.0</td>\n",
       "      <td>NaN</td>\n",
       "      <td>NaN</td>\n",
       "      <td>NaN</td>\n",
       "      <td>NaN</td>\n",
       "      <td>NaN</td>\n",
       "      <td>NaN</td>\n",
       "      <td>NaN</td>\n",
       "      <td>NaN</td>\n",
       "      <td>NaN</td>\n",
       "      <td>NaN</td>\n",
       "      <td>NaN</td>\n",
       "      <td>NaN</td>\n",
       "      <td>NaN</td>\n",
       "    </tr>\n",
       "    <tr>\n",
       "      <th>3</th>\n",
       "      <td>1102</td>\n",
       "      <td>600</td>\n",
       "      <td>1.0</td>\n",
       "      <td>NaN</td>\n",
       "      <td>NaN</td>\n",
       "      <td>NaN</td>\n",
       "      <td>NaN</td>\n",
       "      <td>NaN</td>\n",
       "      <td>NaN</td>\n",
       "      <td>NaN</td>\n",
       "      <td>NaN</td>\n",
       "      <td>NaN</td>\n",
       "      <td>50.0</td>\n",
       "      <td>NaN</td>\n",
       "      <td>NaN</td>\n",
       "      <td>50.0</td>\n",
       "    </tr>\n",
       "    <tr>\n",
       "      <th>4</th>\n",
       "      <td>1102</td>\n",
       "      <td>601</td>\n",
       "      <td>2.0</td>\n",
       "      <td>NaN</td>\n",
       "      <td>NaN</td>\n",
       "      <td>NaN</td>\n",
       "      <td>NaN</td>\n",
       "      <td>NaN</td>\n",
       "      <td>NaN</td>\n",
       "      <td>NaN</td>\n",
       "      <td>NaN</td>\n",
       "      <td>NaN</td>\n",
       "      <td>NaN</td>\n",
       "      <td>NaN</td>\n",
       "      <td>NaN</td>\n",
       "      <td>NaN</td>\n",
       "    </tr>\n",
       "  </tbody>\n",
       "</table>\n",
       "</div>"
      ],
      "text/plain": [
       "   hh_id  item_code  whether_possess  first_hand_purchase_no_30days  \\\n",
       "0   1101        600              2.0                            NaN   \n",
       "1   1101        601              1.0                            NaN   \n",
       "2   1101        602              2.0                            NaN   \n",
       "3   1102        600              1.0                            NaN   \n",
       "4   1102        601              2.0                            NaN   \n",
       "\n",
       "   whether_hire_purchased_30days  first_hand_purchase_value_30days  \\\n",
       "0                            NaN                               NaN   \n",
       "1                            NaN                               NaN   \n",
       "2                            NaN                               NaN   \n",
       "3                            NaN                               NaN   \n",
       "4                            NaN                               NaN   \n",
       "\n",
       "   cost_raw_material_repair_30days  sec_hand_purchase_value_30days  \\\n",
       "0                              NaN                             NaN   \n",
       "1                              NaN                             NaN   \n",
       "2                              NaN                             NaN   \n",
       "3                              NaN                             NaN   \n",
       "4                              NaN                             NaN   \n",
       "\n",
       "   total_expenditure_30days  first_hand_purchase_no_365days  \\\n",
       "0                       NaN                             NaN   \n",
       "1                       NaN                             NaN   \n",
       "2                       NaN                             NaN   \n",
       "3                       NaN                             NaN   \n",
       "4                       NaN                             NaN   \n",
       "\n",
       "   whether_hire_purchased_365days  first_hand_purchase_value_365days  \\\n",
       "0                             NaN                                NaN   \n",
       "1                             NaN                                NaN   \n",
       "2                             NaN                                NaN   \n",
       "3                             NaN                                NaN   \n",
       "4                             NaN                                NaN   \n",
       "\n",
       "   cost_raw_material_repair_365days  sec_hand_purchase_no_365days  \\\n",
       "0                               NaN                           NaN   \n",
       "1                             300.0                           NaN   \n",
       "2                               NaN                           NaN   \n",
       "3                              50.0                           NaN   \n",
       "4                               NaN                           NaN   \n",
       "\n",
       "   sec_hand_purchase_value_365days  total_expenditure_365days  \n",
       "0                              NaN                        NaN  \n",
       "1                              NaN                      300.0  \n",
       "2                              NaN                        NaN  \n",
       "3                              NaN                       50.0  \n",
       "4                              NaN                        NaN  "
      ]
     },
     "execution_count": 87,
     "metadata": {},
     "output_type": "execute_result"
    }
   ],
   "source": [
    "# filter only for transport modes\n",
    "df_5_filter=df_5[df_5.item_code.isin([600,601, 602])].reset_index().drop('index', axis=1)\n",
    "df_5_filter.head()"
   ]
  },
  {
   "cell_type": "code",
   "execution_count": 88,
   "metadata": {},
   "outputs": [
    {
     "name": "stdout",
     "output_type": "stream",
     "text": [
      "<class 'pandas.core.frame.DataFrame'>\n",
      "RangeIndex: 280757 entries, 0 to 280756\n",
      "Data columns (total 16 columns):\n",
      " #   Column                             Non-Null Count   Dtype  \n",
      "---  ------                             --------------   -----  \n",
      " 0   hh_id                              280757 non-null  int64  \n",
      " 1   item_code                          280757 non-null  int64  \n",
      " 2   whether_possess                    280686 non-null  float64\n",
      " 3   first_hand_purchase_no_30days      316 non-null     float64\n",
      " 4   whether_hire_purchased_30days      837 non-null     float64\n",
      " 5   first_hand_purchase_value_30days   245 non-null     float64\n",
      " 6   cost_raw_material_repair_30days    19752 non-null   float64\n",
      " 7   sec_hand_purchase_value_30days     89 non-null      float64\n",
      " 8   total_expenditure_30days           20048 non-null   float64\n",
      " 9   first_hand_purchase_no_365days     1477 non-null    float64\n",
      " 10  whether_hire_purchased_365days     2242 non-null    float64\n",
      " 11  first_hand_purchase_value_365days  1521 non-null    float64\n",
      " 12  cost_raw_material_repair_365days   64047 non-null   float64\n",
      " 13  sec_hand_purchase_no_365days       553 non-null     float64\n",
      " 14  sec_hand_purchase_value_365days    574 non-null     float64\n",
      " 15  total_expenditure_365days          65413 non-null   float64\n",
      "dtypes: float64(14), int64(2)\n",
      "memory usage: 34.3 MB\n"
     ]
    }
   ],
   "source": [
    "df_5_filter.info()"
   ]
  },
  {
   "cell_type": "code",
   "execution_count": 92,
   "metadata": {},
   "outputs": [
    {
     "data": {
      "text/html": [
       "<div>\n",
       "<style scoped>\n",
       "    .dataframe tbody tr th:only-of-type {\n",
       "        vertical-align: middle;\n",
       "    }\n",
       "\n",
       "    .dataframe tbody tr th {\n",
       "        vertical-align: top;\n",
       "    }\n",
       "\n",
       "    .dataframe thead th {\n",
       "        text-align: right;\n",
       "    }\n",
       "</style>\n",
       "<table border=\"1\" class=\"dataframe\">\n",
       "  <thead>\n",
       "    <tr style=\"text-align: right;\">\n",
       "      <th></th>\n",
       "      <th>hh_id</th>\n",
       "      <th>item_code</th>\n",
       "      <th>whether_possess</th>\n",
       "      <th>first_hand_purchase_no_30days</th>\n",
       "      <th>whether_hire_purchased_30days</th>\n",
       "      <th>first_hand_purchase_value_30days</th>\n",
       "      <th>cost_raw_material_repair_30days</th>\n",
       "      <th>sec_hand_purchase_value_30days</th>\n",
       "      <th>total_expenditure_30days</th>\n",
       "      <th>first_hand_purchase_no_365days</th>\n",
       "      <th>whether_hire_purchased_365days</th>\n",
       "      <th>first_hand_purchase_value_365days</th>\n",
       "      <th>cost_raw_material_repair_365days</th>\n",
       "      <th>sec_hand_purchase_no_365days</th>\n",
       "      <th>sec_hand_purchase_value_365days</th>\n",
       "      <th>total_expenditure_365days</th>\n",
       "      <th>item</th>\n",
       "    </tr>\n",
       "  </thead>\n",
       "  <tbody>\n",
       "    <tr>\n",
       "      <th>0</th>\n",
       "      <td>1101</td>\n",
       "      <td>600</td>\n",
       "      <td>2.0</td>\n",
       "      <td>NaN</td>\n",
       "      <td>NaN</td>\n",
       "      <td>NaN</td>\n",
       "      <td>NaN</td>\n",
       "      <td>NaN</td>\n",
       "      <td>NaN</td>\n",
       "      <td>NaN</td>\n",
       "      <td>NaN</td>\n",
       "      <td>NaN</td>\n",
       "      <td>NaN</td>\n",
       "      <td>NaN</td>\n",
       "      <td>NaN</td>\n",
       "      <td>NaN</td>\n",
       "      <td>bicycle</td>\n",
       "    </tr>\n",
       "    <tr>\n",
       "      <th>1</th>\n",
       "      <td>1101</td>\n",
       "      <td>601</td>\n",
       "      <td>1.0</td>\n",
       "      <td>NaN</td>\n",
       "      <td>NaN</td>\n",
       "      <td>NaN</td>\n",
       "      <td>NaN</td>\n",
       "      <td>NaN</td>\n",
       "      <td>NaN</td>\n",
       "      <td>NaN</td>\n",
       "      <td>NaN</td>\n",
       "      <td>NaN</td>\n",
       "      <td>300.0</td>\n",
       "      <td>NaN</td>\n",
       "      <td>NaN</td>\n",
       "      <td>300.0</td>\n",
       "      <td>motorcycle</td>\n",
       "    </tr>\n",
       "    <tr>\n",
       "      <th>2</th>\n",
       "      <td>1101</td>\n",
       "      <td>602</td>\n",
       "      <td>2.0</td>\n",
       "      <td>NaN</td>\n",
       "      <td>NaN</td>\n",
       "      <td>NaN</td>\n",
       "      <td>NaN</td>\n",
       "      <td>NaN</td>\n",
       "      <td>NaN</td>\n",
       "      <td>NaN</td>\n",
       "      <td>NaN</td>\n",
       "      <td>NaN</td>\n",
       "      <td>NaN</td>\n",
       "      <td>NaN</td>\n",
       "      <td>NaN</td>\n",
       "      <td>NaN</td>\n",
       "      <td>motorcar</td>\n",
       "    </tr>\n",
       "    <tr>\n",
       "      <th>3</th>\n",
       "      <td>1102</td>\n",
       "      <td>600</td>\n",
       "      <td>1.0</td>\n",
       "      <td>NaN</td>\n",
       "      <td>NaN</td>\n",
       "      <td>NaN</td>\n",
       "      <td>NaN</td>\n",
       "      <td>NaN</td>\n",
       "      <td>NaN</td>\n",
       "      <td>NaN</td>\n",
       "      <td>NaN</td>\n",
       "      <td>NaN</td>\n",
       "      <td>50.0</td>\n",
       "      <td>NaN</td>\n",
       "      <td>NaN</td>\n",
       "      <td>50.0</td>\n",
       "      <td>bicycle</td>\n",
       "    </tr>\n",
       "    <tr>\n",
       "      <th>4</th>\n",
       "      <td>1102</td>\n",
       "      <td>601</td>\n",
       "      <td>2.0</td>\n",
       "      <td>NaN</td>\n",
       "      <td>NaN</td>\n",
       "      <td>NaN</td>\n",
       "      <td>NaN</td>\n",
       "      <td>NaN</td>\n",
       "      <td>NaN</td>\n",
       "      <td>NaN</td>\n",
       "      <td>NaN</td>\n",
       "      <td>NaN</td>\n",
       "      <td>NaN</td>\n",
       "      <td>NaN</td>\n",
       "      <td>NaN</td>\n",
       "      <td>NaN</td>\n",
       "      <td>motorcycle</td>\n",
       "    </tr>\n",
       "  </tbody>\n",
       "</table>\n",
       "</div>"
      ],
      "text/plain": [
       "   hh_id  item_code  whether_possess  first_hand_purchase_no_30days  \\\n",
       "0   1101        600              2.0                            NaN   \n",
       "1   1101        601              1.0                            NaN   \n",
       "2   1101        602              2.0                            NaN   \n",
       "3   1102        600              1.0                            NaN   \n",
       "4   1102        601              2.0                            NaN   \n",
       "\n",
       "   whether_hire_purchased_30days  first_hand_purchase_value_30days  \\\n",
       "0                            NaN                               NaN   \n",
       "1                            NaN                               NaN   \n",
       "2                            NaN                               NaN   \n",
       "3                            NaN                               NaN   \n",
       "4                            NaN                               NaN   \n",
       "\n",
       "   cost_raw_material_repair_30days  sec_hand_purchase_value_30days  \\\n",
       "0                              NaN                             NaN   \n",
       "1                              NaN                             NaN   \n",
       "2                              NaN                             NaN   \n",
       "3                              NaN                             NaN   \n",
       "4                              NaN                             NaN   \n",
       "\n",
       "   total_expenditure_30days  first_hand_purchase_no_365days  \\\n",
       "0                       NaN                             NaN   \n",
       "1                       NaN                             NaN   \n",
       "2                       NaN                             NaN   \n",
       "3                       NaN                             NaN   \n",
       "4                       NaN                             NaN   \n",
       "\n",
       "   whether_hire_purchased_365days  first_hand_purchase_value_365days  \\\n",
       "0                             NaN                                NaN   \n",
       "1                             NaN                                NaN   \n",
       "2                             NaN                                NaN   \n",
       "3                             NaN                                NaN   \n",
       "4                             NaN                                NaN   \n",
       "\n",
       "   cost_raw_material_repair_365days  sec_hand_purchase_no_365days  \\\n",
       "0                               NaN                           NaN   \n",
       "1                             300.0                           NaN   \n",
       "2                               NaN                           NaN   \n",
       "3                              50.0                           NaN   \n",
       "4                               NaN                           NaN   \n",
       "\n",
       "   sec_hand_purchase_value_365days  total_expenditure_365days        item  \n",
       "0                              NaN                        NaN     bicycle  \n",
       "1                              NaN                      300.0  motorcycle  \n",
       "2                              NaN                        NaN    motorcar  \n",
       "3                              NaN                       50.0     bicycle  \n",
       "4                              NaN                        NaN  motorcycle  "
      ]
     },
     "execution_count": 92,
     "metadata": {},
     "output_type": "execute_result"
    }
   ],
   "source": [
    "#mapping item code with item_name\n",
    "df_5_filter['item']=df_5_filter.item_code.map({600: 'bicycle', 601: 'motorcycle',602:'motorcar'})\n",
    "df_5_filter.head()"
   ]
  },
  {
   "cell_type": "code",
   "execution_count": 93,
   "metadata": {},
   "outputs": [
    {
     "data": {
      "text/plain": [
       "Index(['hh_id', 'item_code', 'whether_possess',\n",
       "       'first_hand_purchase_no_30days', 'whether_hire_purchased_30days',\n",
       "       'first_hand_purchase_value_30days', 'cost_raw_material_repair_30days',\n",
       "       'sec_hand_purchase_value_30days', 'total_expenditure_30days',\n",
       "       'first_hand_purchase_no_365days', 'whether_hire_purchased_365days',\n",
       "       'first_hand_purchase_value_365days', 'cost_raw_material_repair_365days',\n",
       "       'sec_hand_purchase_no_365days', 'sec_hand_purchase_value_365days',\n",
       "       'total_expenditure_365days', 'item'],\n",
       "      dtype='object')"
      ]
     },
     "execution_count": 93,
     "metadata": {},
     "output_type": "execute_result"
    }
   ],
   "source": [
    "df_5_filter.columns"
   ]
  },
  {
   "cell_type": "code",
   "execution_count": 96,
   "metadata": {},
   "outputs": [
    {
     "data": {
      "text/html": [
       "<div>\n",
       "<style scoped>\n",
       "    .dataframe tbody tr th:only-of-type {\n",
       "        vertical-align: middle;\n",
       "    }\n",
       "\n",
       "    .dataframe tbody tr th {\n",
       "        vertical-align: top;\n",
       "    }\n",
       "\n",
       "    .dataframe thead th {\n",
       "        text-align: right;\n",
       "    }\n",
       "</style>\n",
       "<table border=\"1\" class=\"dataframe\">\n",
       "  <thead>\n",
       "    <tr style=\"text-align: right;\">\n",
       "      <th></th>\n",
       "      <th>hh_id</th>\n",
       "      <th>whether_possess_bicycle</th>\n",
       "      <th>whether_possess_motorcar</th>\n",
       "      <th>whether_possess_motorcycle</th>\n",
       "      <th>first_hand_purchase_no_30days_bicycle</th>\n",
       "      <th>first_hand_purchase_no_30days_motorcar</th>\n",
       "      <th>first_hand_purchase_no_30days_motorcycle</th>\n",
       "      <th>whether_hire_purchased_30days_bicycle</th>\n",
       "      <th>whether_hire_purchased_30days_motorcar</th>\n",
       "      <th>whether_hire_purchased_30days_motorcycle</th>\n",
       "      <th>...</th>\n",
       "      <th>cost_raw_material_repair_365days_motorcycle</th>\n",
       "      <th>sec_hand_purchase_no_365days_bicycle</th>\n",
       "      <th>sec_hand_purchase_no_365days_motorcar</th>\n",
       "      <th>sec_hand_purchase_no_365days_motorcycle</th>\n",
       "      <th>sec_hand_purchase_value_365days_bicycle</th>\n",
       "      <th>sec_hand_purchase_value_365days_motorcar</th>\n",
       "      <th>sec_hand_purchase_value_365days_motorcycle</th>\n",
       "      <th>total_expenditure_365days_bicycle</th>\n",
       "      <th>total_expenditure_365days_motorcar</th>\n",
       "      <th>total_expenditure_365days_motorcycle</th>\n",
       "    </tr>\n",
       "  </thead>\n",
       "  <tbody>\n",
       "    <tr>\n",
       "      <th>0</th>\n",
       "      <td>1101</td>\n",
       "      <td>2.0</td>\n",
       "      <td>2.0</td>\n",
       "      <td>1.0</td>\n",
       "      <td>NaN</td>\n",
       "      <td>NaN</td>\n",
       "      <td>NaN</td>\n",
       "      <td>NaN</td>\n",
       "      <td>NaN</td>\n",
       "      <td>NaN</td>\n",
       "      <td>...</td>\n",
       "      <td>300.0</td>\n",
       "      <td>NaN</td>\n",
       "      <td>NaN</td>\n",
       "      <td>NaN</td>\n",
       "      <td>NaN</td>\n",
       "      <td>NaN</td>\n",
       "      <td>NaN</td>\n",
       "      <td>NaN</td>\n",
       "      <td>NaN</td>\n",
       "      <td>300.0</td>\n",
       "    </tr>\n",
       "    <tr>\n",
       "      <th>1</th>\n",
       "      <td>1102</td>\n",
       "      <td>1.0</td>\n",
       "      <td>2.0</td>\n",
       "      <td>2.0</td>\n",
       "      <td>NaN</td>\n",
       "      <td>NaN</td>\n",
       "      <td>NaN</td>\n",
       "      <td>NaN</td>\n",
       "      <td>NaN</td>\n",
       "      <td>NaN</td>\n",
       "      <td>...</td>\n",
       "      <td>NaN</td>\n",
       "      <td>NaN</td>\n",
       "      <td>NaN</td>\n",
       "      <td>NaN</td>\n",
       "      <td>NaN</td>\n",
       "      <td>NaN</td>\n",
       "      <td>NaN</td>\n",
       "      <td>50.0</td>\n",
       "      <td>NaN</td>\n",
       "      <td>NaN</td>\n",
       "    </tr>\n",
       "    <tr>\n",
       "      <th>2</th>\n",
       "      <td>1103</td>\n",
       "      <td>1.0</td>\n",
       "      <td>2.0</td>\n",
       "      <td>2.0</td>\n",
       "      <td>NaN</td>\n",
       "      <td>NaN</td>\n",
       "      <td>NaN</td>\n",
       "      <td>NaN</td>\n",
       "      <td>NaN</td>\n",
       "      <td>NaN</td>\n",
       "      <td>...</td>\n",
       "      <td>NaN</td>\n",
       "      <td>NaN</td>\n",
       "      <td>NaN</td>\n",
       "      <td>NaN</td>\n",
       "      <td>NaN</td>\n",
       "      <td>NaN</td>\n",
       "      <td>NaN</td>\n",
       "      <td>NaN</td>\n",
       "      <td>NaN</td>\n",
       "      <td>NaN</td>\n",
       "    </tr>\n",
       "    <tr>\n",
       "      <th>3</th>\n",
       "      <td>1104</td>\n",
       "      <td>2.0</td>\n",
       "      <td>2.0</td>\n",
       "      <td>1.0</td>\n",
       "      <td>NaN</td>\n",
       "      <td>NaN</td>\n",
       "      <td>NaN</td>\n",
       "      <td>NaN</td>\n",
       "      <td>NaN</td>\n",
       "      <td>NaN</td>\n",
       "      <td>...</td>\n",
       "      <td>300.0</td>\n",
       "      <td>NaN</td>\n",
       "      <td>NaN</td>\n",
       "      <td>NaN</td>\n",
       "      <td>NaN</td>\n",
       "      <td>NaN</td>\n",
       "      <td>NaN</td>\n",
       "      <td>NaN</td>\n",
       "      <td>NaN</td>\n",
       "      <td>300.0</td>\n",
       "    </tr>\n",
       "    <tr>\n",
       "      <th>4</th>\n",
       "      <td>1201</td>\n",
       "      <td>1.0</td>\n",
       "      <td>2.0</td>\n",
       "      <td>1.0</td>\n",
       "      <td>NaN</td>\n",
       "      <td>NaN</td>\n",
       "      <td>NaN</td>\n",
       "      <td>NaN</td>\n",
       "      <td>NaN</td>\n",
       "      <td>NaN</td>\n",
       "      <td>...</td>\n",
       "      <td>200.0</td>\n",
       "      <td>NaN</td>\n",
       "      <td>NaN</td>\n",
       "      <td>NaN</td>\n",
       "      <td>NaN</td>\n",
       "      <td>NaN</td>\n",
       "      <td>NaN</td>\n",
       "      <td>50.0</td>\n",
       "      <td>NaN</td>\n",
       "      <td>200.0</td>\n",
       "    </tr>\n",
       "    <tr>\n",
       "      <th>...</th>\n",
       "      <td>...</td>\n",
       "      <td>...</td>\n",
       "      <td>...</td>\n",
       "      <td>...</td>\n",
       "      <td>...</td>\n",
       "      <td>...</td>\n",
       "      <td>...</td>\n",
       "      <td>...</td>\n",
       "      <td>...</td>\n",
       "      <td>...</td>\n",
       "      <td>...</td>\n",
       "      <td>...</td>\n",
       "      <td>...</td>\n",
       "      <td>...</td>\n",
       "      <td>...</td>\n",
       "      <td>...</td>\n",
       "      <td>...</td>\n",
       "      <td>...</td>\n",
       "      <td>...</td>\n",
       "      <td>...</td>\n",
       "      <td>...</td>\n",
       "    </tr>\n",
       "    <tr>\n",
       "      <th>96928</th>\n",
       "      <td>899991301</td>\n",
       "      <td>2.0</td>\n",
       "      <td>2.0</td>\n",
       "      <td>2.0</td>\n",
       "      <td>NaN</td>\n",
       "      <td>NaN</td>\n",
       "      <td>NaN</td>\n",
       "      <td>NaN</td>\n",
       "      <td>NaN</td>\n",
       "      <td>NaN</td>\n",
       "      <td>...</td>\n",
       "      <td>NaN</td>\n",
       "      <td>NaN</td>\n",
       "      <td>NaN</td>\n",
       "      <td>NaN</td>\n",
       "      <td>NaN</td>\n",
       "      <td>NaN</td>\n",
       "      <td>NaN</td>\n",
       "      <td>NaN</td>\n",
       "      <td>NaN</td>\n",
       "      <td>NaN</td>\n",
       "    </tr>\n",
       "    <tr>\n",
       "      <th>96929</th>\n",
       "      <td>899992101</td>\n",
       "      <td>2.0</td>\n",
       "      <td>1.0</td>\n",
       "      <td>1.0</td>\n",
       "      <td>NaN</td>\n",
       "      <td>NaN</td>\n",
       "      <td>NaN</td>\n",
       "      <td>NaN</td>\n",
       "      <td>NaN</td>\n",
       "      <td>NaN</td>\n",
       "      <td>...</td>\n",
       "      <td>600.0</td>\n",
       "      <td>NaN</td>\n",
       "      <td>NaN</td>\n",
       "      <td>NaN</td>\n",
       "      <td>NaN</td>\n",
       "      <td>NaN</td>\n",
       "      <td>NaN</td>\n",
       "      <td>NaN</td>\n",
       "      <td>2250.0</td>\n",
       "      <td>600.0</td>\n",
       "    </tr>\n",
       "    <tr>\n",
       "      <th>96930</th>\n",
       "      <td>899992201</td>\n",
       "      <td>2.0</td>\n",
       "      <td>2.0</td>\n",
       "      <td>2.0</td>\n",
       "      <td>NaN</td>\n",
       "      <td>NaN</td>\n",
       "      <td>NaN</td>\n",
       "      <td>NaN</td>\n",
       "      <td>NaN</td>\n",
       "      <td>NaN</td>\n",
       "      <td>...</td>\n",
       "      <td>NaN</td>\n",
       "      <td>NaN</td>\n",
       "      <td>NaN</td>\n",
       "      <td>NaN</td>\n",
       "      <td>NaN</td>\n",
       "      <td>NaN</td>\n",
       "      <td>NaN</td>\n",
       "      <td>NaN</td>\n",
       "      <td>NaN</td>\n",
       "      <td>NaN</td>\n",
       "    </tr>\n",
       "    <tr>\n",
       "      <th>96931</th>\n",
       "      <td>899992202</td>\n",
       "      <td>2.0</td>\n",
       "      <td>2.0</td>\n",
       "      <td>2.0</td>\n",
       "      <td>NaN</td>\n",
       "      <td>NaN</td>\n",
       "      <td>NaN</td>\n",
       "      <td>NaN</td>\n",
       "      <td>NaN</td>\n",
       "      <td>NaN</td>\n",
       "      <td>...</td>\n",
       "      <td>NaN</td>\n",
       "      <td>NaN</td>\n",
       "      <td>NaN</td>\n",
       "      <td>NaN</td>\n",
       "      <td>NaN</td>\n",
       "      <td>NaN</td>\n",
       "      <td>NaN</td>\n",
       "      <td>NaN</td>\n",
       "      <td>NaN</td>\n",
       "      <td>NaN</td>\n",
       "    </tr>\n",
       "    <tr>\n",
       "      <th>96932</th>\n",
       "      <td>899992301</td>\n",
       "      <td>2.0</td>\n",
       "      <td>2.0</td>\n",
       "      <td>2.0</td>\n",
       "      <td>NaN</td>\n",
       "      <td>NaN</td>\n",
       "      <td>NaN</td>\n",
       "      <td>NaN</td>\n",
       "      <td>NaN</td>\n",
       "      <td>NaN</td>\n",
       "      <td>...</td>\n",
       "      <td>NaN</td>\n",
       "      <td>NaN</td>\n",
       "      <td>NaN</td>\n",
       "      <td>NaN</td>\n",
       "      <td>NaN</td>\n",
       "      <td>NaN</td>\n",
       "      <td>NaN</td>\n",
       "      <td>NaN</td>\n",
       "      <td>NaN</td>\n",
       "      <td>NaN</td>\n",
       "    </tr>\n",
       "  </tbody>\n",
       "</table>\n",
       "<p>96933 rows × 43 columns</p>\n",
       "</div>"
      ],
      "text/plain": [
       "           hh_id  whether_possess_bicycle  whether_possess_motorcar  \\\n",
       "0           1101                      2.0                       2.0   \n",
       "1           1102                      1.0                       2.0   \n",
       "2           1103                      1.0                       2.0   \n",
       "3           1104                      2.0                       2.0   \n",
       "4           1201                      1.0                       2.0   \n",
       "...          ...                      ...                       ...   \n",
       "96928  899991301                      2.0                       2.0   \n",
       "96929  899992101                      2.0                       1.0   \n",
       "96930  899992201                      2.0                       2.0   \n",
       "96931  899992202                      2.0                       2.0   \n",
       "96932  899992301                      2.0                       2.0   \n",
       "\n",
       "       whether_possess_motorcycle  first_hand_purchase_no_30days_bicycle  \\\n",
       "0                             1.0                                    NaN   \n",
       "1                             2.0                                    NaN   \n",
       "2                             2.0                                    NaN   \n",
       "3                             1.0                                    NaN   \n",
       "4                             1.0                                    NaN   \n",
       "...                           ...                                    ...   \n",
       "96928                         2.0                                    NaN   \n",
       "96929                         1.0                                    NaN   \n",
       "96930                         2.0                                    NaN   \n",
       "96931                         2.0                                    NaN   \n",
       "96932                         2.0                                    NaN   \n",
       "\n",
       "       first_hand_purchase_no_30days_motorcar  \\\n",
       "0                                         NaN   \n",
       "1                                         NaN   \n",
       "2                                         NaN   \n",
       "3                                         NaN   \n",
       "4                                         NaN   \n",
       "...                                       ...   \n",
       "96928                                     NaN   \n",
       "96929                                     NaN   \n",
       "96930                                     NaN   \n",
       "96931                                     NaN   \n",
       "96932                                     NaN   \n",
       "\n",
       "       first_hand_purchase_no_30days_motorcycle  \\\n",
       "0                                           NaN   \n",
       "1                                           NaN   \n",
       "2                                           NaN   \n",
       "3                                           NaN   \n",
       "4                                           NaN   \n",
       "...                                         ...   \n",
       "96928                                       NaN   \n",
       "96929                                       NaN   \n",
       "96930                                       NaN   \n",
       "96931                                       NaN   \n",
       "96932                                       NaN   \n",
       "\n",
       "       whether_hire_purchased_30days_bicycle  \\\n",
       "0                                        NaN   \n",
       "1                                        NaN   \n",
       "2                                        NaN   \n",
       "3                                        NaN   \n",
       "4                                        NaN   \n",
       "...                                      ...   \n",
       "96928                                    NaN   \n",
       "96929                                    NaN   \n",
       "96930                                    NaN   \n",
       "96931                                    NaN   \n",
       "96932                                    NaN   \n",
       "\n",
       "       whether_hire_purchased_30days_motorcar  \\\n",
       "0                                         NaN   \n",
       "1                                         NaN   \n",
       "2                                         NaN   \n",
       "3                                         NaN   \n",
       "4                                         NaN   \n",
       "...                                       ...   \n",
       "96928                                     NaN   \n",
       "96929                                     NaN   \n",
       "96930                                     NaN   \n",
       "96931                                     NaN   \n",
       "96932                                     NaN   \n",
       "\n",
       "       whether_hire_purchased_30days_motorcycle  ...  \\\n",
       "0                                           NaN  ...   \n",
       "1                                           NaN  ...   \n",
       "2                                           NaN  ...   \n",
       "3                                           NaN  ...   \n",
       "4                                           NaN  ...   \n",
       "...                                         ...  ...   \n",
       "96928                                       NaN  ...   \n",
       "96929                                       NaN  ...   \n",
       "96930                                       NaN  ...   \n",
       "96931                                       NaN  ...   \n",
       "96932                                       NaN  ...   \n",
       "\n",
       "       cost_raw_material_repair_365days_motorcycle  \\\n",
       "0                                            300.0   \n",
       "1                                              NaN   \n",
       "2                                              NaN   \n",
       "3                                            300.0   \n",
       "4                                            200.0   \n",
       "...                                            ...   \n",
       "96928                                          NaN   \n",
       "96929                                        600.0   \n",
       "96930                                          NaN   \n",
       "96931                                          NaN   \n",
       "96932                                          NaN   \n",
       "\n",
       "       sec_hand_purchase_no_365days_bicycle  \\\n",
       "0                                       NaN   \n",
       "1                                       NaN   \n",
       "2                                       NaN   \n",
       "3                                       NaN   \n",
       "4                                       NaN   \n",
       "...                                     ...   \n",
       "96928                                   NaN   \n",
       "96929                                   NaN   \n",
       "96930                                   NaN   \n",
       "96931                                   NaN   \n",
       "96932                                   NaN   \n",
       "\n",
       "       sec_hand_purchase_no_365days_motorcar  \\\n",
       "0                                        NaN   \n",
       "1                                        NaN   \n",
       "2                                        NaN   \n",
       "3                                        NaN   \n",
       "4                                        NaN   \n",
       "...                                      ...   \n",
       "96928                                    NaN   \n",
       "96929                                    NaN   \n",
       "96930                                    NaN   \n",
       "96931                                    NaN   \n",
       "96932                                    NaN   \n",
       "\n",
       "       sec_hand_purchase_no_365days_motorcycle  \\\n",
       "0                                          NaN   \n",
       "1                                          NaN   \n",
       "2                                          NaN   \n",
       "3                                          NaN   \n",
       "4                                          NaN   \n",
       "...                                        ...   \n",
       "96928                                      NaN   \n",
       "96929                                      NaN   \n",
       "96930                                      NaN   \n",
       "96931                                      NaN   \n",
       "96932                                      NaN   \n",
       "\n",
       "       sec_hand_purchase_value_365days_bicycle  \\\n",
       "0                                          NaN   \n",
       "1                                          NaN   \n",
       "2                                          NaN   \n",
       "3                                          NaN   \n",
       "4                                          NaN   \n",
       "...                                        ...   \n",
       "96928                                      NaN   \n",
       "96929                                      NaN   \n",
       "96930                                      NaN   \n",
       "96931                                      NaN   \n",
       "96932                                      NaN   \n",
       "\n",
       "       sec_hand_purchase_value_365days_motorcar  \\\n",
       "0                                           NaN   \n",
       "1                                           NaN   \n",
       "2                                           NaN   \n",
       "3                                           NaN   \n",
       "4                                           NaN   \n",
       "...                                         ...   \n",
       "96928                                       NaN   \n",
       "96929                                       NaN   \n",
       "96930                                       NaN   \n",
       "96931                                       NaN   \n",
       "96932                                       NaN   \n",
       "\n",
       "       sec_hand_purchase_value_365days_motorcycle  \\\n",
       "0                                             NaN   \n",
       "1                                             NaN   \n",
       "2                                             NaN   \n",
       "3                                             NaN   \n",
       "4                                             NaN   \n",
       "...                                           ...   \n",
       "96928                                         NaN   \n",
       "96929                                         NaN   \n",
       "96930                                         NaN   \n",
       "96931                                         NaN   \n",
       "96932                                         NaN   \n",
       "\n",
       "       total_expenditure_365days_bicycle  total_expenditure_365days_motorcar  \\\n",
       "0                                    NaN                                 NaN   \n",
       "1                                   50.0                                 NaN   \n",
       "2                                    NaN                                 NaN   \n",
       "3                                    NaN                                 NaN   \n",
       "4                                   50.0                                 NaN   \n",
       "...                                  ...                                 ...   \n",
       "96928                                NaN                                 NaN   \n",
       "96929                                NaN                              2250.0   \n",
       "96930                                NaN                                 NaN   \n",
       "96931                                NaN                                 NaN   \n",
       "96932                                NaN                                 NaN   \n",
       "\n",
       "       total_expenditure_365days_motorcycle  \n",
       "0                                     300.0  \n",
       "1                                       NaN  \n",
       "2                                       NaN  \n",
       "3                                     300.0  \n",
       "4                                     200.0  \n",
       "...                                     ...  \n",
       "96928                                   NaN  \n",
       "96929                                 600.0  \n",
       "96930                                   NaN  \n",
       "96931                                   NaN  \n",
       "96932                                   NaN  \n",
       "\n",
       "[96933 rows x 43 columns]"
      ]
     },
     "execution_count": 96,
     "metadata": {},
     "output_type": "execute_result"
    }
   ],
   "source": [
    "# convert from wide to long format\n",
    "df_5_wide=df_5_filter.pivot(index='hh_id', columns='item', values=['whether_possess',\n",
    "       'first_hand_purchase_no_30days', 'whether_hire_purchased_30days',\n",
    "       'first_hand_purchase_value_30days', 'cost_raw_material_repair_30days',\n",
    "       'sec_hand_purchase_value_30days', 'total_expenditure_30days',\n",
    "       'first_hand_purchase_no_365days', 'whether_hire_purchased_365days',\n",
    "       'first_hand_purchase_value_365days', 'cost_raw_material_repair_365days',\n",
    "       'sec_hand_purchase_no_365days', 'sec_hand_purchase_value_365days',\n",
    "       'total_expenditure_365days']).reset_index()\n",
    "df_5_wide.columns = ['_'.join(tup).rstrip('_') for tup in df_5_wide.columns.values] #to convert from multilevel to single level\n",
    "df_5_wide"
   ]
  },
  {
   "cell_type": "code",
   "execution_count": null,
   "metadata": {},
   "outputs": [],
   "source": []
  }
 ],
 "metadata": {
  "kernelspec": {
   "display_name": "Python 3",
   "language": "python",
   "name": "python3"
  },
  "language_info": {
   "codemirror_mode": {
    "name": "ipython",
    "version": 3
   },
   "file_extension": ".py",
   "mimetype": "text/x-python",
   "name": "python",
   "nbconvert_exporter": "python",
   "pygments_lexer": "ipython3",
   "version": "3.8.5"
  }
 },
 "nbformat": 4,
 "nbformat_minor": 4
}
